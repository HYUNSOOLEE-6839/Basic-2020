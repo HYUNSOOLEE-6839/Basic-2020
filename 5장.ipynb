{
 "cells": [
  {
   "cell_type": "markdown",
   "metadata": {},
   "source": [
    "# 연습문제 5.1"
   ]
  },
  {
   "cell_type": "code",
   "execution_count": 3,
   "metadata": {},
   "outputs": [
    {
     "data": {
      "text/plain": [
       "\"When an eel grabs your arm,\\n    And it causes great harm,\\n    That's -a moray!\""
      ]
     },
     "execution_count": 3,
     "metadata": {},
     "output_type": "execute_result"
    }
   ],
   "source": [
    "song = \"\"\"When an eel grabs your arm,\n",
    "    And it causes great harm,\n",
    "    That's -a moray!\"\"\"\n",
    "song.replace(' m', 'M')\n",
    "song"
   ]
  },
  {
   "cell_type": "markdown",
   "metadata": {},
   "source": [
    "# 연습문제 5.2"
   ]
  },
  {
   "cell_type": "code",
   "execution_count": 4,
   "metadata": {},
   "outputs": [],
   "source": [
    "questions = [\n",
    "    \"We don't serve strings around here. Are you a string?\",\n",
    "    \"What is said on Father's Day in the forest?\",\n",
    "    \"What makes the sound 'Sis! Boom! Bah!'?\"\n",
    "]"
   ]
  },
  {
   "cell_type": "code",
   "execution_count": 22,
   "metadata": {},
   "outputs": [],
   "source": [
    "answers = [\n",
    "    \"An exploding sheep.\",\n",
    "    \"No, I'm a frayed knot.\",\n",
    "    \"'Pop!' goes the weasel.\"\n",
    "]"
   ]
  },
  {
   "cell_type": "code",
   "execution_count": 43,
   "metadata": {},
   "outputs": [
    {
     "name": "stdout",
     "output_type": "stream",
     "text": [
      "Q: We don't serve strings around here. Are you a string?\n",
      "A: No, I'm a frayed knot.\n",
      "\n",
      "Q: What is said on Father's Day in the forest?\n",
      "A: 'Pop!' goes the weasel.\n",
      "\n",
      "Q: What makes the sound 'Sis! Boom! Bah!'?\n",
      "A: An exploding sheep.\n",
      "\n"
     ]
    }
   ],
   "source": [
    "q_a = ((0, 1), (1, 2), (2,0))\n",
    "for q, a in q_a:\n",
    "    print(\"Q:\", questions[q])\n",
    "    print(\"A:\", answers[a])\n",
    "    print()"
   ]
  },
  {
   "cell_type": "markdown",
   "metadata": {},
   "source": [
    "# 연습문제 5.3"
   ]
  },
  {
   "cell_type": "code",
   "execution_count": 64,
   "metadata": {},
   "outputs": [],
   "source": [
    "a = 'roast beef'\n",
    "b = 'ham'\n",
    "c = 'head'\n",
    "d = 'clam'\n",
    "\n",
    "e = f'My kitty cat likes {a},'\n",
    "f = f'My kitty cat likes {b},'\n",
    "g = f'My kitty cat fell on his {c} And now thinks he is a {d}.'"
   ]
  },
  {
   "cell_type": "code",
   "execution_count": 67,
   "metadata": {},
   "outputs": [],
   "source": [
    "poem = [e,f,g]"
   ]
  },
  {
   "cell_type": "code",
   "execution_count": 68,
   "metadata": {},
   "outputs": [
    {
     "data": {
      "text/plain": [
       "['My kitty cat likes roast beef,',\n",
       " 'My kitty cat likes ham,',\n",
       " 'My kitty cat fell on his head And now thinks he is a clam.']"
      ]
     },
     "execution_count": 68,
     "metadata": {},
     "output_type": "execute_result"
    }
   ],
   "source": [
    "poem"
   ]
  },
  {
   "cell_type": "markdown",
   "metadata": {},
   "source": [
    "# 연습문제 5.4"
   ]
  },
  {
   "cell_type": "code",
   "execution_count": 71,
   "metadata": {},
   "outputs": [],
   "source": [
    "letter= '''Dear {salutation} {name},\n",
    "\n",
    "Thank you for your letter. We are sorry that our {product} {verbed} in your\n",
    "{room}. Please note that it should never be used in a {room}, especially near any\n",
    "{animals}.\n",
    "\n",
    "Send us your receipt and {amount} for shipping and handling. We will send you\n",
    "another {product} that, in our tests, is {percent}% less likely to have {verbed}.\n",
    "\n",
    "Thank you for your support.\n",
    "Sincerely,\n",
    "{spokesman}\n",
    "{job_title}'''"
   ]
  },
  {
   "cell_type": "markdown",
   "metadata": {},
   "source": [
    "# 연습문제 5.5"
   ]
  },
  {
   "cell_type": "code",
   "execution_count": 72,
   "metadata": {},
   "outputs": [
    {
     "name": "stdout",
     "output_type": "stream",
     "text": [
      "Dear Ambassador Lee,\n",
      "\n",
      "Thank you for your letter. We are sorry that our machine to clean in your\n",
      "1708. Please note that it should never be used in a 1708, especially near any\n",
      "lion.\n",
      "\n",
      "Send us your receipt and 100 for shipping and handling. We will send you\n",
      "another machine that, in our tests, is 46% less likely to have to clean.\n",
      "\n",
      "Thank you for your support.\n",
      "Sincerely,\n",
      "Kim\n",
      "CEO\n"
     ]
    }
   ],
   "source": [
    "print(\n",
    "letter.format(salutation = 'Ambassador', \n",
    "            name = 'Lee',\n",
    "            product = 'machine',\n",
    "            verbed = 'to clean',\n",
    "            room = 1708,\n",
    "            animals = 'lion',\n",
    "            amount = 100,\n",
    "            percent = 46,\n",
    "            spokesman = 'Kim',\n",
    "            job_title = 'CEO'))"
   ]
  },
  {
   "cell_type": "markdown",
   "metadata": {},
   "source": [
    "# 연습문제 5.6"
   ]
  },
  {
   "cell_type": "code",
   "execution_count": 82,
   "metadata": {},
   "outputs": [],
   "source": [
    "face = '''Boaty McBoatface\n",
    "Horsey McHorseface\n",
    "Trainy McTrainface'''"
   ]
  },
  {
   "cell_type": "markdown",
   "metadata": {},
   "source": [
    "# 연습문제 5.7"
   ]
  },
  {
   "cell_type": "code",
   "execution_count": 84,
   "metadata": {},
   "outputs": [
    {
     "name": "stdout",
     "output_type": "stream",
     "text": [
      "Boaty McBoatface\n",
      "Horsey McHorseface\n",
      "Trainy McTrainface\n"
     ]
    }
   ],
   "source": [
    "print(\n",
    "face.format(Boat='Duck',\n",
    "Horse='Gourd',\n",
    "Train='Spitz'))"
   ]
  },
  {
   "cell_type": "markdown",
   "metadata": {},
   "source": [
    "# 연습문제 5.8"
   ]
  },
  {
   "cell_type": "code",
   "execution_count": 89,
   "metadata": {},
   "outputs": [],
   "source": [
    "Boat='Duck'\n",
    "Horse='Gourd'\n",
    "Train='Spitz'\n",
    "\n",
    "a = f'{Boat}y Mc{Boat}face'\n",
    "b = f'{Horse}y Mc{Horse}face'\n",
    "c = f'{Train}y Mc{Train}face'\n",
    "face = (a,b,c)"
   ]
  },
  {
   "cell_type": "code",
   "execution_count": 90,
   "metadata": {},
   "outputs": [
    {
     "data": {
      "text/plain": [
       "('Ducky McDuckface', 'Gourdy McGourdface', 'Spitzy McSpitzface')"
      ]
     },
     "execution_count": 90,
     "metadata": {},
     "output_type": "execute_result"
    }
   ],
   "source": [
    "face"
   ]
  },
  {
   "cell_type": "markdown",
   "metadata": {},
   "source": [
    "# 연습문제 6.1"
   ]
  },
  {
   "cell_type": "code",
   "execution_count": 102,
   "metadata": {},
   "outputs": [
    {
     "name": "stdout",
     "output_type": "stream",
     "text": [
      "3\n",
      "2\n",
      "1\n",
      "0\n"
     ]
    }
   ],
   "source": [
    "for x in [3,2,1,0]:\n",
    "    print(x)"
   ]
  },
  {
   "cell_type": "markdown",
   "metadata": {},
   "source": [
    "# 연습문제 6.2"
   ]
  },
  {
   "cell_type": "code",
   "execution_count": 105,
   "metadata": {},
   "outputs": [
    {
     "name": "stdout",
     "output_type": "stream",
     "text": [
      "too low\n",
      "too low\n",
      "too low\n",
      "too low\n",
      "too low\n",
      "too low\n",
      "found it!\n"
     ]
    }
   ],
   "source": [
    "guess_me = 7\n",
    "number = 1\n",
    "while True:\n",
    "    if number<guess_me:\n",
    "        print('too low')\n",
    "    elif number == guess_me:\n",
    "        print('found it!')\n",
    "        break\n",
    "    elif number>guess_me:\n",
    "        print('oops')\n",
    "        break\n",
    "    number += 1"
   ]
  },
  {
   "cell_type": "markdown",
   "metadata": {},
   "source": [
    "# 연습문제 6.3"
   ]
  },
  {
   "cell_type": "code",
   "execution_count": 107,
   "metadata": {},
   "outputs": [
    {
     "name": "stdout",
     "output_type": "stream",
     "text": [
      "too low\n",
      "too low\n",
      "too low\n",
      "too low\n",
      "too low\n",
      "found it!\n"
     ]
    }
   ],
   "source": [
    "guess_me = 5\n",
    "for number in range(10):\n",
    "    if number<guess_me:\n",
    "        print('too low')\n",
    "    elif number == guess_me:\n",
    "        print('found it!')\n",
    "        break\n",
    "    elif number>guess_me:\n",
    "        print('oops')\n",
    "        break    "
   ]
  },
  {
   "cell_type": "code",
   "execution_count": null,
   "metadata": {},
   "outputs": [],
   "source": []
  },
  {
   "cell_type": "code",
   "execution_count": null,
   "metadata": {},
   "outputs": [],
   "source": []
  }
 ],
 "metadata": {
  "kernelspec": {
   "display_name": "Python 3",
   "language": "python",
   "name": "python3"
  },
  "language_info": {
   "codemirror_mode": {
    "name": "ipython",
    "version": 3
   },
   "file_extension": ".py",
   "mimetype": "text/x-python",
   "name": "python",
   "nbconvert_exporter": "python",
   "pygments_lexer": "ipython3",
   "version": "3.8.3"
  }
 },
 "nbformat": 4,
 "nbformat_minor": 4
}
