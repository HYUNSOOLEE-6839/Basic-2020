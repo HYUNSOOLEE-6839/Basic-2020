{
 "cells": [
  {
   "cell_type": "code",
   "execution_count": 2,
   "metadata": {},
   "outputs": [
    {
     "name": "stdout",
     "output_type": "stream",
     "text": [
      "숫자를 입력하세요 : 1\n",
      "양수!\n"
     ]
    }
   ],
   "source": [
    "# 조건문\n",
    "x = int(input('숫자를 입력하세요 : '))\n",
    "if x>0 :\n",
    "    print('양수!')\n",
    "else : \n",
    "    print('0 또는 음수!')"
   ]
  },
  {
   "cell_type": "code",
   "execution_count": 3,
   "metadata": {},
   "outputs": [
    {
     "name": "stdout",
     "output_type": "stream",
     "text": [
      "정수 입력>1\n"
     ]
    }
   ],
   "source": [
    "# 양수판별\n",
    "n = int(input('정수 입력>'))"
   ]
  },
  {
   "cell_type": "code",
   "execution_count": 4,
   "metadata": {},
   "outputs": [
    {
     "name": "stdout",
     "output_type": "stream",
     "text": [
      "1은/는 양수\n"
     ]
    }
   ],
   "source": [
    "if n>0 :\n",
    "    print('%d은/는 양수' %n)\n",
    "else :\n",
    "    print('%d은/는0 또는 음수'%n)"
   ]
  },
  {
   "cell_type": "markdown",
   "metadata": {},
   "source": [
    "# 파이썬에서는 if 조건식 뒤에 :가 붙고,\n",
    "# (    ) - 4칸 만큼의 공백을 두고 결과 출력.\n",
    "# 4칸이 아닌 3, 5칸 입력 시 indentation error 발생"
   ]
  },
  {
   "cell_type": "code",
   "execution_count": 5,
   "metadata": {},
   "outputs": [
    {
     "name": "stdout",
     "output_type": "stream",
     "text": [
      "True\n",
      "True\n",
      "True\n",
      "True\n",
      "False\n",
      "False\n",
      "False\n"
     ]
    }
   ],
   "source": [
    "x = 10\n",
    "y = 3\n",
    "\n",
    "print (x>9) #x가 9보다 큰가?\n",
    "print (y<=10) #y가 10보다 작거나 같은가?\n",
    "print (x+y==13) # x+y가 13과 같은가?\n",
    "print (x%2==0) #x를 2로 나눈 나머지가 0인가? 즉, 짝수인가?\n",
    "print (y%2==0) #y를 2로 나눈 나머지가 0인가? 즉, 짝수인가?\n",
    "print (x%4==0) #x가 4의 배수인가?\n",
    "print (y%3 !=0) # y는 3의 배수가 아닌가?"
   ]
  },
  {
   "cell_type": "code",
   "execution_count": 6,
   "metadata": {},
   "outputs": [
    {
     "name": "stdout",
     "output_type": "stream",
     "text": [
      "필기성적을 입력하세요 :1\n",
      "실기성적을 입력하세요 :1\n",
      "불합격\n"
     ]
    }
   ],
   "source": [
    "score1 = int(input('필기성적을 입력하세요 :'))\n",
    "score2 = int(input('실기성적을 입력하세요 :'))\n",
    "\n",
    "if score1 >= 80 and score2 >=80 :\n",
    "    print('합격')\n",
    "else :\n",
    "    print('불합격')"
   ]
  },
  {
   "cell_type": "code",
   "execution_count": 7,
   "metadata": {},
   "outputs": [
    {
     "name": "stdout",
     "output_type": "stream",
     "text": [
      "필기 성적>1\n",
      "실기 성적>1\n"
     ]
    }
   ],
   "source": [
    "score1 = int(input('필기 성적>'))\n",
    "score2 = int(input('실기 성적>'))"
   ]
  },
  {
   "cell_type": "code",
   "execution_count": 8,
   "metadata": {},
   "outputs": [
    {
     "name": "stdout",
     "output_type": "stream",
     "text": [
      "불합격\n"
     ]
    }
   ],
   "source": [
    "if ((score1 >= 80) and (score2 >= 80)):\n",
    "    print('합격')\n",
    "else:\n",
    "    print('불합격')"
   ]
  },
  {
   "cell_type": "code",
   "execution_count": 9,
   "metadata": {},
   "outputs": [
    {
     "name": "stdout",
     "output_type": "stream",
     "text": [
      "이름을 입력하세요 :1\n",
      "이름:1\n"
     ]
    }
   ],
   "source": [
    "name = input('이름을 입력하세요 :')\n",
    "if not name :\n",
    "    print('이름이 입력되지 않았다.')\n",
    "else :\n",
    "    print('이름:%s'%name)"
   ]
  },
  {
   "cell_type": "code",
   "execution_count": 10,
   "metadata": {},
   "outputs": [
    {
     "name": "stdout",
     "output_type": "stream",
     "text": [
      "이름을 입력하세요 :1\n",
      "이름:1\n"
     ]
    }
   ],
   "source": [
    "name = input('이름을 입력하세요 :')\n",
    "if not name :\n",
    "    print('이름이 입력되지 않았다.')\n",
    "else :\n",
    "    print('이름:%s'%name)"
   ]
  },
  {
   "cell_type": "code",
   "execution_count": 11,
   "metadata": {},
   "outputs": [
    {
     "name": "stdout",
     "output_type": "stream",
     "text": [
      "이름 입력>1\n"
     ]
    }
   ],
   "source": [
    "# 논리 부정\n",
    "#name = input('이름 입력>')\n",
    "name = None\n",
    "name = input('이름 입력>')"
   ]
  },
  {
   "cell_type": "code",
   "execution_count": 12,
   "metadata": {},
   "outputs": [
    {
     "name": "stdout",
     "output_type": "stream",
     "text": [
      "입력된 이름:1\n"
     ]
    }
   ],
   "source": [
    "if not name :\n",
    "    print('이름이 입력되지 않았음')\n",
    "else :\n",
    "    print('입력된 이름:%s'%name)"
   ]
  },
  {
   "cell_type": "code",
   "execution_count": 13,
   "metadata": {},
   "outputs": [
    {
     "name": "stdout",
     "output_type": "stream",
     "text": [
      "정수 입력>1\n"
     ]
    }
   ],
   "source": [
    "# 양수, 0, 음수 판별\n",
    "n = int(input('정수 입력>'))"
   ]
  },
  {
   "cell_type": "code",
   "execution_count": 14,
   "metadata": {},
   "outputs": [
    {
     "name": "stdout",
     "output_type": "stream",
     "text": [
      "1은/는 양수입니다.\n"
     ]
    }
   ],
   "source": [
    "if n>0 :\n",
    "    print('%d은/는 양수입니다.' %n)\n",
    "elif n ==0:\n",
    "    print('0입니다.')\n",
    "else :\n",
    "    print('%d은/는 음수입니다.'%n)"
   ]
  },
  {
   "cell_type": "code",
   "execution_count": 15,
   "metadata": {},
   "outputs": [
    {
     "name": "stdout",
     "output_type": "stream",
     "text": [
      "점수 : 1\n",
      "D\n"
     ]
    }
   ],
   "source": [
    "score = int(input('점수 : '))\n",
    "if score >= 90:\n",
    "    print('A')\n",
    "elif score >=80:\n",
    "    print('B')\n",
    "elif score >=70:\n",
    "    print('C')\n",
    "else:\n",
    "    print('D')"
   ]
  },
  {
   "cell_type": "code",
   "execution_count": 16,
   "metadata": {},
   "outputs": [
    {
     "name": "stdout",
     "output_type": "stream",
     "text": [
      "점수>1\n"
     ]
    }
   ],
   "source": [
    "# 학점\n",
    "score = int(input('점수>'))"
   ]
  },
  {
   "cell_type": "code",
   "execution_count": 17,
   "metadata": {},
   "outputs": [],
   "source": [
    "if score >= 90:\n",
    "    grade = 'A'\n",
    "elif score >= 80:\n",
    "    grade = 'B'\n",
    "elif score >= 70:\n",
    "    grade = 'C'\n",
    "elif score >= 60:\n",
    "    grade = 'D'\n",
    "else :\n",
    "    grade = 'F'"
   ]
  },
  {
   "cell_type": "code",
   "execution_count": 18,
   "metadata": {},
   "outputs": [
    {
     "name": "stdout",
     "output_type": "stream",
     "text": [
      "1 F\n"
     ]
    }
   ],
   "source": [
    "print(score, grade)"
   ]
  },
  {
   "cell_type": "code",
   "execution_count": 19,
   "metadata": {},
   "outputs": [
    {
     "name": "stdout",
     "output_type": "stream",
     "text": [
      "숫자>1\n",
      "숫자>1\n",
      "숫자>1\n"
     ]
    }
   ],
   "source": [
    "# 세 수의 합과 평균 - 일반적\n",
    "x = int(input('숫자>'))\n",
    "y = int(input('숫자>'))\n",
    "z = int(input('숫자>'))"
   ]
  },
  {
   "cell_type": "code",
   "execution_count": 20,
   "metadata": {},
   "outputs": [
    {
     "name": "stdout",
     "output_type": "stream",
     "text": [
      "세 개의 숫자 입력1\n"
     ]
    },
    {
     "ename": "ValueError",
     "evalue": "not enough values to unpack (expected 3, got 1)",
     "output_type": "error",
     "traceback": [
      "\u001b[1;31m---------------------------------------------------------------------------\u001b[0m",
      "\u001b[1;31mValueError\u001b[0m                                Traceback (most recent call last)",
      "\u001b[1;32m<ipython-input-20-955ed94fb728>\u001b[0m in \u001b[0;36m<module>\u001b[1;34m\u001b[0m\n\u001b[0;32m      1\u001b[0m \u001b[1;31m# 세 수의 합과 평균 - only python\u001b[0m\u001b[1;33m\u001b[0m\u001b[1;33m\u001b[0m\u001b[1;33m\u001b[0m\u001b[0m\n\u001b[1;32m----> 2\u001b[1;33m \u001b[0mx\u001b[0m\u001b[1;33m,\u001b[0m \u001b[0my\u001b[0m\u001b[1;33m,\u001b[0m \u001b[0mz\u001b[0m \u001b[1;33m=\u001b[0m \u001b[0minput\u001b[0m\u001b[1;33m(\u001b[0m\u001b[1;34m'세 개의 숫자 입력'\u001b[0m\u001b[1;33m)\u001b[0m\u001b[1;33m.\u001b[0m\u001b[0msplit\u001b[0m\u001b[1;33m(\u001b[0m\u001b[1;33m)\u001b[0m\u001b[1;33m\u001b[0m\u001b[1;33m\u001b[0m\u001b[0m\n\u001b[0m",
      "\u001b[1;31mValueError\u001b[0m: not enough values to unpack (expected 3, got 1)"
     ]
    }
   ],
   "source": [
    "# 세 수의 합과 평균 - only python\n",
    "x, y, z = input('세 개의 숫자 입력').split()"
   ]
  },
  {
   "cell_type": "code",
   "execution_count": null,
   "metadata": {},
   "outputs": [],
   "source": [
    "x, y, z"
   ]
  },
  {
   "cell_type": "code",
   "execution_count": null,
   "metadata": {},
   "outputs": [],
   "source": [
    "int(x),int(y),int(z)"
   ]
  },
  {
   "cell_type": "code",
   "execution_count": null,
   "metadata": {},
   "outputs": [],
   "source": [
    "# 세 수의 합과 평균2 - only python\n",
    "x, y, z = map(int, input('세 개의 숫자 입력>').split())\n",
    "x, y, z"
   ]
  },
  {
   "cell_type": "markdown",
   "metadata": {},
   "source": [
    "# input_str = '76 87 54' = x, y, z\n",
    "# input.str.split() = ('76','87','54')\n",
    "# x, y, z = tuple\n",
    "# map(int, input('76','87','54'))\n",
    "# => int라는 함수를 각각의 수에 적용시켜라."
   ]
  },
  {
   "cell_type": "code",
   "execution_count": 21,
   "metadata": {},
   "outputs": [
    {
     "data": {
      "text/plain": [
       "(3, 1.0)"
      ]
     },
     "execution_count": 21,
     "metadata": {},
     "output_type": "execute_result"
    }
   ],
   "source": [
    "sum = x+y+z\n",
    "avg = sum/3\n",
    "sum, avg"
   ]
  },
  {
   "cell_type": "code",
   "execution_count": 22,
   "metadata": {},
   "outputs": [],
   "source": [
    "# 만 나이 계산하기\n",
    "current_year = 2020\n",
    "current_month = 8\n",
    "current_day = 28"
   ]
  },
  {
   "cell_type": "code",
   "execution_count": 30,
   "metadata": {},
   "outputs": [
    {
     "name": "stdout",
     "output_type": "stream",
     "text": [
      "생일입력>1996 01 31\n"
     ]
    },
    {
     "data": {
      "text/plain": [
       "(1996, 1, 31)"
      ]
     },
     "execution_count": 30,
     "metadata": {},
     "output_type": "execute_result"
    }
   ],
   "source": [
    "birth_year, birth_month, birth_day = map(int,input('생일입력>').split())\n",
    "birth_year, birth_month, birth_day"
   ]
  },
  {
   "cell_type": "code",
   "execution_count": 31,
   "metadata": {},
   "outputs": [],
   "source": [
    "if current_month > birth_month:\n",
    "    age = current_year - birth_year\n",
    "elif current_month < birth_month :\n",
    "    age = current_year - birth_year - 1\n",
    "elif current_day < birth_day:\n",
    "    age = current_year - birth_year - 1\n",
    "else:\n",
    "    age = current_year - birth_year"
   ]
  },
  {
   "cell_type": "code",
   "execution_count": 32,
   "metadata": {},
   "outputs": [
    {
     "data": {
      "text/plain": [
       "24"
      ]
     },
     "execution_count": 32,
     "metadata": {},
     "output_type": "execute_result"
    }
   ],
   "source": [
    "age"
   ]
  },
  {
   "cell_type": "code",
   "execution_count": 33,
   "metadata": {},
   "outputs": [
    {
     "name": "stdout",
     "output_type": "stream",
     "text": [
      "24\n"
     ]
    }
   ],
   "source": [
    "if current_month > birth_month: # 현재월 > 생월\n",
    "    age = current_year - birth_year\n",
    "elif current_month < birth_month : # 현재월 < 생월\n",
    "    age = current_year - birth_year - 1\n",
    "else:             #현재월 == 생월\n",
    "    if current_day < birth_day:  # 현재일 < 생일\n",
    "        age = current_year - birth_year -1\n",
    "    elif current_day < birth_day:  # 현재일 >= 생일\n",
    "        age = current_year - birth_year - 1\n",
    "    else:\n",
    "        age = current_year - birth_year\n",
    "print(age)"
   ]
  },
  {
   "cell_type": "code",
   "execution_count": 34,
   "metadata": {},
   "outputs": [
    {
     "data": {
      "text/plain": [
       "datetime.datetime(2020, 8, 28, 12, 16, 47, 363781)"
      ]
     },
     "execution_count": 34,
     "metadata": {},
     "output_type": "execute_result"
    }
   ],
   "source": [
    "# 파이썬 datetime module 활용\n",
    "import datetime\n",
    "datetime.datetime.now()"
   ]
  },
  {
   "cell_type": "code",
   "execution_count": 35,
   "metadata": {},
   "outputs": [
    {
     "data": {
      "text/plain": [
       "(2020, 8, 28)"
      ]
     },
     "execution_count": 35,
     "metadata": {},
     "output_type": "execute_result"
    }
   ],
   "source": [
    "current_year = datetime.datetime.now().year\n",
    "current_month = datetime.datetime.now().month\n",
    "current_day = datetime.datetime.now().day\n",
    "current_year, current_month, current_day"
   ]
  },
  {
   "cell_type": "code",
   "execution_count": 36,
   "metadata": {},
   "outputs": [
    {
     "name": "stdout",
     "output_type": "stream",
     "text": [
      "생일입력>1996 01 31\n"
     ]
    },
    {
     "data": {
      "text/plain": [
       "(1996, 1, 31)"
      ]
     },
     "execution_count": 36,
     "metadata": {},
     "output_type": "execute_result"
    }
   ],
   "source": [
    "birth_year, birth_month, birth_day = map(int,input('생일입력>').split())\n",
    "birth_year, birth_month, birth_day"
   ]
  },
  {
   "cell_type": "code",
   "execution_count": 37,
   "metadata": {},
   "outputs": [
    {
     "name": "stdout",
     "output_type": "stream",
     "text": [
      "24\n"
     ]
    }
   ],
   "source": [
    "if current_month > birth_month: # 현재월 > 생월\n",
    "    age = current_year - birth_year\n",
    "elif current_month < birth_month : # 현재월 < 생월\n",
    "    age = current_year - birth_year - 1\n",
    "else:             #현재월 == 생월\n",
    "    if current_day < birth_day:  # 현재일 < 생일\n",
    "        age = current_year - birth_year -1\n",
    "    elif current_day < birth_day:  # 현재일 >= 생일\n",
    "        age = current_year - birth_year - 1\n",
    "    else:\n",
    "        age = current_year - birth_year\n",
    "print(age)"
   ]
  },
  {
   "cell_type": "code",
   "execution_count": 38,
   "metadata": {},
   "outputs": [
    {
     "name": "stdout",
     "output_type": "stream",
     "text": [
      "생일 6자리 숫자>960131\n"
     ]
    },
    {
     "data": {
      "text/plain": [
       "(1996, 1, 31)"
      ]
     },
     "execution_count": 38,
     "metadata": {},
     "output_type": "execute_result"
    }
   ],
   "source": [
    "# 생일 6자리 숫자로 받아서 처리하기\n",
    "birthday = input('생일 6자리 숫자>')\n",
    "birth_year = int(birthday[:2])\n",
    "if birth_year <=20:\n",
    "    birth_year +=2000\n",
    "else:\n",
    "    birth_year +=1900\n",
    "birth_month = int(birthday[2:4])\n",
    "birth_day = int(birthday[4:])\n",
    "birth_year, birth_month, birth_day"
   ]
  },
  {
   "cell_type": "code",
   "execution_count": 39,
   "metadata": {},
   "outputs": [
    {
     "name": "stdout",
     "output_type": "stream",
     "text": [
      "생일 6자리 숫자>960131\n"
     ]
    },
    {
     "data": {
      "text/plain": [
       "(1996, 1, 31)"
      ]
     },
     "execution_count": 39,
     "metadata": {},
     "output_type": "execute_result"
    }
   ],
   "source": [
    "# 생일 6자리 숫자로 받아서 처리하기\n",
    "birthday = input('생일 6자리 숫자>')\n",
    "birth_year = int(birthday[:2])\n",
    "if birth_year <=20:\n",
    "    birth_year +=2000\n",
    "else:\n",
    "    birth_year +=1900\n",
    "birth_month = int(birthday[2:4])\n",
    "birth_day = int(birthday[4:])\n",
    "birth_year, birth_month, birth_day"
   ]
  },
  {
   "cell_type": "code",
   "execution_count": 40,
   "metadata": {},
   "outputs": [
    {
     "name": "stdout",
     "output_type": "stream",
     "text": [
      "생일 (6, 7, 8자리 숫자)>19960131\n",
      "1996 1 31\n"
     ]
    }
   ],
   "source": [
    "# 생일 임의의 연속된 숫자로 받아서 처리하기\n",
    "birthday = input('생일 (6, 7, 8자리 숫자)>')\n",
    "if len(birthday)==6:\n",
    "    birth_year = int(birthday[:2])\n",
    "    if birth_year <=20:\n",
    "        birth_year +=2000\n",
    "    else:\n",
    "        birth_year +=1900\n",
    "    birth_month = int(birthday[2:4])\n",
    "    birth_day = int(birthday[4:])    \n",
    "elif len(birthday) ==7:\n",
    "    birth_year = int(birthday[:2])\n",
    "    if int(birthday[-1])>2 ==2:\n",
    "        birth_year +=2000\n",
    "    else:\n",
    "        birth_year +=1900\n",
    "    birth_month = int(birthday[2:4])\n",
    "    birth_day = int(birthday[4:6])    \n",
    "else:\n",
    "    birth_year = int(birthday[:4])\n",
    "    birth_month = int(birthday[4:6])\n",
    "    birth_day = int(birthday[6:8])\n",
    "print(birth_year, birth_month, birth_day)"
   ]
  },
  {
   "cell_type": "code",
   "execution_count": 41,
   "metadata": {},
   "outputs": [
    {
     "name": "stdout",
     "output_type": "stream",
     "text": [
      "숫자를 입력하세요 :554\n",
      "짝수이다.\n"
     ]
    }
   ],
   "source": [
    "# 짝수/홀수 판별\n",
    "num =int(input('숫자를 입력하세요 :'))\n",
    "if num %2 ==0 :\n",
    "    print('짝수이다.')\n",
    "else :\n",
    "    print('홀수이다.')"
   ]
  },
  {
   "cell_type": "code",
   "execution_count": 42,
   "metadata": {},
   "outputs": [
    {
     "name": "stdout",
     "output_type": "stream",
     "text": [
      "숫자를 입력하세요 :555\n",
      "홀수이다.\n"
     ]
    }
   ],
   "source": [
    "# 짝수/홀수 판별\n",
    "num =int(input('숫자를 입력하세요 :'))\n",
    "if num %2 ==0 :\n",
    "    print('짝수이다.')\n",
    "else :\n",
    "    print('홀수이다.')"
   ]
  },
  {
   "cell_type": "code",
   "execution_count": 43,
   "metadata": {},
   "outputs": [
    {
     "name": "stdout",
     "output_type": "stream",
     "text": [
      "나이를 입력하세요 :4\n",
      "입장료:무료\n"
     ]
    }
   ],
   "source": [
    "age =int(input('나이를 입력하세요 :'))\n",
    "pay = '3000원'\n",
    "\n",
    "if age>=65 or age <7 :\n",
    "    pay = '무료'\n",
    "    \n",
    "print('입장료:%s'%pay)"
   ]
  },
  {
   "cell_type": "code",
   "execution_count": 44,
   "metadata": {},
   "outputs": [
    {
     "name": "stdout",
     "output_type": "stream",
     "text": [
      "나이를 입력하세요 :62\n",
      "입장료:3000원\n"
     ]
    }
   ],
   "source": [
    "age =int(input('나이를 입력하세요 :'))\n",
    "pay = '3000원'\n",
    "\n",
    "if age>=65 or age <7 :\n",
    "    pay = '무료'\n",
    "    \n",
    "print('입장료:%s'%pay)"
   ]
  },
  {
   "cell_type": "code",
   "execution_count": 45,
   "metadata": {},
   "outputs": [
    {
     "name": "stdout",
     "output_type": "stream",
     "text": [
      "비밀번호를 입력하세요 :31326839\n",
      "비밀번호 OK!\n"
     ]
    }
   ],
   "source": [
    "answer = '31326839'\n",
    "password = input('비밀번호를 입력하세요 :')\n",
    "if password == answer:\n",
    "    print('비밀번호 OK!')\n",
    "else :\n",
    "    print('비밀번호 Not OK!')"
   ]
  },
  {
   "cell_type": "code",
   "execution_count": 46,
   "metadata": {},
   "outputs": [
    {
     "name": "stdout",
     "output_type": "stream",
     "text": [
      "비밀번호를 입력하세요 :31313\n",
      "비밀번호 Not OK!\n"
     ]
    }
   ],
   "source": [
    "answer = '31326839'\n",
    "password = input('비밀번호를 입력하세요 :')\n",
    "if password == answer:\n",
    "    print('비밀번호 OK!')\n",
    "else :\n",
    "    print('비밀번호 Not OK!')"
   ]
  },
  {
   "cell_type": "code",
   "execution_count": 47,
   "metadata": {},
   "outputs": [
    {
     "name": "stdout",
     "output_type": "stream",
     "text": [
      "월을 입력하세요 :1\n",
      "1월은 겨울입니다.\n"
     ]
    }
   ],
   "source": [
    "month = int(input('월을 입력하세요 :'))\n",
    "if month>=3 and month <=5 :\n",
    "    print('%d월은 봄입니다.'%month)\n",
    "if month>=6 and month <=8 :\n",
    "    print('%d월은 여름입니다.'%month)\n",
    "if month>=9 and month <=11 :\n",
    "    print('%d월은 가을입니다.'%month)\n",
    "if month==12 or month ==1 or month==2 :\n",
    "    print('%d월은 겨울입니다.'%month)        "
   ]
  },
  {
   "cell_type": "code",
   "execution_count": null,
   "metadata": {},
   "outputs": [],
   "source": [
    "a =input('좌석 종류를 입력해주세요(1:일반실, 2:특실):')\n",
    "seat1 ='일반실'\n",
    "seat2 ='특실'\n",
    "if a == '일반실' :\n",
    "    print('%s입니다.'%seat1)\n",
    "if a == '특실' :\n",
    "    print('%s입니다.'%seat2)\n",
    "\n",
    " "
   ]
  },
  {
   "cell_type": "code",
   "execution_count": null,
   "metadata": {},
   "outputs": [],
   "source": []
  },
  {
   "cell_type": "code",
   "execution_count": null,
   "metadata": {},
   "outputs": [],
   "source": []
  },
  {
   "cell_type": "code",
   "execution_count": null,
   "metadata": {},
   "outputs": [],
   "source": []
  },
  {
   "cell_type": "code",
   "execution_count": null,
   "metadata": {},
   "outputs": [],
   "source": []
  },
  {
   "cell_type": "code",
   "execution_count": null,
   "metadata": {},
   "outputs": [],
   "source": []
  },
  {
   "cell_type": "code",
   "execution_count": null,
   "metadata": {},
   "outputs": [],
   "source": []
  },
  {
   "cell_type": "code",
   "execution_count": null,
   "metadata": {},
   "outputs": [],
   "source": []
  },
  {
   "cell_type": "code",
   "execution_count": null,
   "metadata": {},
   "outputs": [],
   "source": []
  }
 ],
 "metadata": {
  "kernelspec": {
   "display_name": "Python 3",
   "language": "python",
   "name": "python3"
  }
 },
 "nbformat": 4,
 "nbformat_minor": 4
}
