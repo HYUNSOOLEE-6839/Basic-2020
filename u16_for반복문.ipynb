{
 "cells": [
  {
   "cell_type": "markdown",
   "metadata": {},
   "source": [
    "# Unit 16. For 반복문"
   ]
  },
  {
   "cell_type": "code",
   "execution_count": 3,
   "metadata": {},
   "outputs": [
    {
     "name": "stdout",
     "output_type": "stream",
     "text": [
      "hello world\n",
      "hello world\n",
      "hello world\n",
      "hello world\n",
      "hello world\n",
      "hello world\n",
      "hello world\n",
      "hello world\n",
      "hello world\n",
      "hello world\n"
     ]
    }
   ],
   "source": [
    "for i in range(10):\n",
    "    print('hello world')"
   ]
  },
  {
   "cell_type": "code",
   "execution_count": 4,
   "metadata": {},
   "outputs": [
    {
     "name": "stdout",
     "output_type": "stream",
     "text": [
      "hello world 0\n",
      "hello world 1\n",
      "hello world 2\n",
      "hello world 3\n",
      "hello world 4\n",
      "hello world 5\n",
      "hello world 6\n",
      "hello world 7\n",
      "hello world 8\n",
      "hello world 9\n"
     ]
    }
   ],
   "source": [
    "for i in range(10):\n",
    "    print('hello world', i)"
   ]
  },
  {
   "cell_type": "code",
   "execution_count": 5,
   "metadata": {},
   "outputs": [
    {
     "name": "stdout",
     "output_type": "stream",
     "text": [
      "hello world 10\n",
      "hello world 11\n",
      "hello world 12\n",
      "hello world 13\n",
      "hello world 14\n"
     ]
    }
   ],
   "source": [
    "for i in range(10,15):\n",
    "    print('hello world', i)"
   ]
  },
  {
   "cell_type": "code",
   "execution_count": 6,
   "metadata": {},
   "outputs": [
    {
     "name": "stdout",
     "output_type": "stream",
     "text": [
      "hello world 10\n",
      "hello world 13\n",
      "hello world 16\n",
      "hello world 19\n",
      "hello world 22\n"
     ]
    }
   ],
   "source": [
    "for i in range(10,25,3):\n",
    "    print('hello world', i)"
   ]
  },
  {
   "cell_type": "code",
   "execution_count": 8,
   "metadata": {},
   "outputs": [
    {
     "name": "stdout",
     "output_type": "stream",
     "text": [
      "hello world 10\n",
      "hello world 9\n",
      "hello world 8\n",
      "hello world 7\n",
      "hello world 6\n",
      "hello world 5\n",
      "hello world 4\n"
     ]
    }
   ],
   "source": [
    "for i in range(10,3,-1):\n",
    "    print('hello world', i)"
   ]
  },
  {
   "cell_type": "code",
   "execution_count": 9,
   "metadata": {},
   "outputs": [
    {
     "name": "stdout",
     "output_type": "stream",
     "text": [
      "hello world 9\n",
      "hello world 8\n",
      "hello world 7\n",
      "hello world 6\n",
      "hello world 5\n",
      "hello world 4\n",
      "hello world 3\n",
      "hello world 2\n",
      "hello world 1\n",
      "hello world 0\n"
     ]
    }
   ],
   "source": [
    "for i in reversed(range(10)):\n",
    "    print('hello world', i)"
   ]
  },
  {
   "cell_type": "code",
   "execution_count": 11,
   "metadata": {},
   "outputs": [
    {
     "name": "stdout",
     "output_type": "stream",
     "text": [
      "반복할 횟수를 입력하세요:8\n",
      "hello world 0\n",
      "hello world 1\n",
      "hello world 2\n",
      "hello world 3\n",
      "hello world 4\n",
      "hello world 5\n",
      "hello world 6\n",
      "hello world 7\n"
     ]
    }
   ],
   "source": [
    "count = int(input('반복할 횟수를 입력하세요:'))\n",
    "\n",
    "for i in range(count):\n",
    "    print('hello world', i)"
   ]
  },
  {
   "cell_type": "code",
   "execution_count": 12,
   "metadata": {},
   "outputs": [
    {
     "name": "stdout",
     "output_type": "stream",
     "text": [
      "hello world 4\n",
      "hello world 3\n",
      "hello world 2\n",
      "hello world 1\n",
      "hello world 0\n"
     ]
    }
   ],
   "source": [
    "for i in reversed(range(5)):\n",
    "    print('hello world', i)"
   ]
  },
  {
   "cell_type": "code",
   "execution_count": 13,
   "metadata": {},
   "outputs": [
    {
     "name": "stdout",
     "output_type": "stream",
     "text": [
      "hello world 5\n",
      "hello world 4\n",
      "hello world 3\n",
      "hello world 2\n",
      "hello world 1\n"
     ]
    }
   ],
   "source": [
    "for i in range(5,0,-1):\n",
    "    print('hello world', i)"
   ]
  },
  {
   "cell_type": "markdown",
   "metadata": {},
   "source": [
    "# Sequence 객체로 반복하기"
   ]
  },
  {
   "cell_type": "code",
   "execution_count": 17,
   "metadata": {},
   "outputs": [
    {
     "name": "stdout",
     "output_type": "stream",
     "text": [
      "10\n",
      "20\n",
      "30\n",
      "40\n",
      "50\n"
     ]
    }
   ],
   "source": [
    "a = [10, 20, 30, 40, 50]\n",
    "for i in a:\n",
    "    print(i)"
   ]
  },
  {
   "cell_type": "code",
   "execution_count": 21,
   "metadata": {},
   "outputs": [
    {
     "name": "stdout",
     "output_type": "stream",
     "text": [
      "10 20 30 40 50 "
     ]
    }
   ],
   "source": [
    "a = [10, 20, 30, 40, 50]\n",
    "for element in a:\n",
    "    print(element, end=' ')"
   ]
  },
  {
   "cell_type": "code",
   "execution_count": 22,
   "metadata": {},
   "outputs": [
    {
     "name": "stdout",
     "output_type": "stream",
     "text": [
      "apple orange grape banana "
     ]
    }
   ],
   "source": [
    "b = ('apple', 'orange', 'grape', 'banana')\n",
    "for fruit in b:\n",
    "    print(fruit, end=' ')"
   ]
  },
  {
   "cell_type": "code",
   "execution_count": 23,
   "metadata": {},
   "outputs": [
    {
     "name": "stdout",
     "output_type": "stream",
     "text": [
      "P y t h o n "
     ]
    }
   ],
   "source": [
    "for letter in 'Python':\n",
    "    print(letter, end=' ')\n"
   ]
  },
  {
   "cell_type": "code",
   "execution_count": 24,
   "metadata": {},
   "outputs": [
    {
     "name": "stdout",
     "output_type": "stream",
     "text": [
      "n o h t y P "
     ]
    }
   ],
   "source": [
    "for letter in reversed('Python'):\n",
    "    print(letter, end=' ')"
   ]
  },
  {
   "cell_type": "code",
   "execution_count": 38,
   "metadata": {},
   "outputs": [
    {
     "name": "stdout",
     "output_type": "stream",
     "text": [
      "2\n",
      "4\n",
      "6\n",
      "8\n",
      "10\n",
      "12\n",
      "14\n",
      "16\n",
      "18\n"
     ]
    }
   ],
   "source": [
    "a = [1,2,3,4,5,6,7,8,9]\n",
    "for element in a:\n",
    "    print(2*element)"
   ]
  },
  {
   "cell_type": "code",
   "execution_count": 46,
   "metadata": {},
   "outputs": [
    {
     "name": "stdout",
     "output_type": "stream",
     "text": [
      "반복할 횟수를 입력하세요:10\n",
      "2 * i = 0\n",
      "2 * i = 2\n",
      "2 * i = 4\n",
      "2 * i = 6\n",
      "2 * i = 8\n",
      "2 * i = 10\n",
      "2 * i = 12\n",
      "2 * i = 14\n",
      "2 * i = 16\n",
      "2 * i = 18\n"
     ]
    }
   ],
   "source": [
    "count = int(input('반복할 횟수를 입력하세요:'))\n",
    "i = [1,2,3,4,5,6,7,8,9]\n",
    "for i in range(count):\n",
    "    print('2 * i =', 2*i)"
   ]
  },
  {
   "cell_type": "code",
   "execution_count": 52,
   "metadata": {},
   "outputs": [
    {
     "name": "stdout",
     "output_type": "stream",
     "text": [
      "반복할 횟수를 입력하세요:1\n",
      "7 * 1 = 7\n",
      "7 * 2 = 14\n",
      "7 * 3 = 21\n",
      "7 * 4 = 28\n",
      "7 * 5 = 35\n",
      "7 * 6 = 42\n",
      "7 * 7 = 49\n",
      "7 * 8 = 56\n",
      "7 * 9 = 63\n"
     ]
    }
   ],
   "source": [
    "count = int(input('반복할 횟수를 입력하세요:'))\n",
    "n = 7\n",
    "for i in range(1, 10):\n",
    "    print(n, '*', i, '=', n * i)"
   ]
  },
  {
   "cell_type": "code",
   "execution_count": 60,
   "metadata": {},
   "outputs": [
    {
     "name": "stdout",
     "output_type": "stream",
     "text": [
      "2 * 1 = 2\n",
      "2 * 2 = 4\n",
      "2 * 3 = 6\n",
      "2 * 4 = 8\n",
      "2 * 5 = 10\n",
      "2 * 6 = 12\n",
      "2 * 7 = 14\n",
      "2 * 8 = 16\n",
      "2 * 9 = 18\n"
     ]
    }
   ],
   "source": [
    "count = int(input('반복할 횟수를 입력하세요:'))\n",
    "n = 2\n",
    "for i in range(1, 10):\n",
    "    print(n, '*', i, '=', n * i)"
   ]
  },
  {
   "cell_type": "code",
   "execution_count": null,
   "metadata": {},
   "outputs": [],
   "source": []
  }
 ],
 "metadata": {
  "kernelspec": {
   "display_name": "Python 3",
   "language": "python",
   "name": "python3"
  },
  "language_info": {
   "codemirror_mode": {
    "name": "ipython",
    "version": 3
   },
   "file_extension": ".py",
   "mimetype": "text/x-python",
   "name": "python",
   "nbconvert_exporter": "python",
   "pygments_lexer": "ipython3",
   "version": "3.8.3"
  }
 },
 "nbformat": 4,
 "nbformat_minor": 4
}
