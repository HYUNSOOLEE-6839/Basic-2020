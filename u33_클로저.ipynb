{
 "cells": [
  {
   "cell_type": "markdown",
   "metadata": {},
   "source": [
    "# Unit 33. 클로저 사용하기"
   ]
  },
  {
   "cell_type": "code",
   "execution_count": 1,
   "metadata": {},
   "outputs": [],
   "source": [
    "# 스코프 룰 : 내 변수가 유효한 범위\n",
    "# a = 10, def local() : a = 20, print(a)=10\n",
    "# 이 때 def local() : a의 a는 local 변수"
   ]
  },
  {
   "cell_type": "code",
   "execution_count": 2,
   "metadata": {},
   "outputs": [
    {
     "name": "stdout",
     "output_type": "stream",
     "text": [
      "10\n",
      "10\n"
     ]
    }
   ],
   "source": [
    "x = 10          # 전역 변수\n",
    "def foo():\n",
    "    print(x)    # 전역 변수 출력\n",
    " \n",
    "foo()\n",
    "print(x)        # 전역 변수 출력"
   ]
  },
  {
   "cell_type": "code",
   "execution_count": 3,
   "metadata": {},
   "outputs": [
    {
     "name": "stdout",
     "output_type": "stream",
     "text": [
      "10\n",
      "10\n"
     ]
    }
   ],
   "source": [
    "def foo():\n",
    "    x = 10      # foo의 지역 변수\n",
    "    print(x)    # foo의 지역 변수 출력\n",
    " \n",
    "foo()\n",
    "print(x)        # 에러. foo의 지역 변수는 출력할 수 없음"
   ]
  },
  {
   "cell_type": "code",
   "execution_count": 4,
   "metadata": {},
   "outputs": [
    {
     "name": "stdout",
     "output_type": "stream",
     "text": [
      "20\n",
      "10\n"
     ]
    }
   ],
   "source": [
    "x = 10          # 전역 변수\n",
    "def foo():\n",
    "    x = 20      # x는 foo의 지역 변수\n",
    "    print(x)    # foo의 지역 변수 출력\n",
    " \n",
    "foo()\n",
    "print(x)        # 전역 변수 출력"
   ]
  },
  {
   "cell_type": "code",
   "execution_count": 5,
   "metadata": {},
   "outputs": [
    {
     "name": "stdout",
     "output_type": "stream",
     "text": [
      "20\n",
      "20\n"
     ]
    }
   ],
   "source": [
    "x = 10          # 전역 변수\n",
    "def foo():\n",
    "    global x    # 전역 변수 x를 사용하겠다고 설정\n",
    "    x = 20      # x는 전역 변수\n",
    "    print(x)    # 전역 변수 출력\n",
    " \n",
    "foo()\n",
    "print(x)        # 전역 변수 출력"
   ]
  },
  {
   "cell_type": "code",
   "execution_count": null,
   "metadata": {},
   "outputs": [],
   "source": []
  },
  {
   "cell_type": "code",
   "execution_count": null,
   "metadata": {},
   "outputs": [],
   "source": []
  },
  {
   "cell_type": "code",
   "execution_count": null,
   "metadata": {},
   "outputs": [],
   "source": []
  }
 ],
 "metadata": {
  "kernelspec": {
   "display_name": "Python 3",
   "language": "python",
   "name": "python3"
  },
  "language_info": {
   "codemirror_mode": {
    "name": "ipython",
    "version": 3
   },
   "file_extension": ".py",
   "mimetype": "text/x-python",
   "name": "python",
   "nbconvert_exporter": "python",
   "pygments_lexer": "ipython3",
   "version": "3.8.3"
  }
 },
 "nbformat": 4,
 "nbformat_minor": 4
}
