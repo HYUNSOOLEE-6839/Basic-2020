{
 "cells": [
  {
   "cell_type": "markdown",
   "metadata": {},
   "source": [
    "# Word Count 연습문제"
   ]
  },
  {
   "cell_type": "code",
   "execution_count": 66,
   "metadata": {},
   "outputs": [],
   "source": [
    "lorem= '''Lorem ipsum dolor sit amet, consectetur adipiscing elit, sed do eiusmod tempor incididunt ut labore et dolore magna aliqua. Ultrices gravida dictum fusce ut placerat orci nulla pellentesque. Neque sodales ut etiam sit amet nisl purus in mollis. Volutpat commodo sed egestas egestas fringilla phasellus faucibus. Eget duis at tellus at urna condimentum mattis pellentesque. Viverra maecenas accumsan lacus vel facilisis volutpat est. Libero justo laoreet sit amet cursus sit amet dictum. Sed vulputate mi sit amet. Vitae semper quis lectus nulla at volutpat. Enim ut sem viverra aliquet. Et odio pellentesque diam volutpat commodo sed. Eleifend quam adipiscing vitae proin sagittis nisl. Felis eget nunc lobortis mattis. Ipsum dolor sit amet consectetur adipiscing. Sed elementum tempus egestas sed sed. Amet nulla facilisi morbi tempus iaculis urna id volutpat lacus. Vulputate sapien nec sagittis aliquam malesuada bibendum arcu vitae elementum. Cras adipiscing enim eu turpis egestas pretium.\n",
    "\n",
    "Auctor elit sed vulputate mi. Sit amet purus gravida quis blandit turpis cursus in. Mattis nunc sed blandit libero volutpat sed cras ornare. Aliquam sem et tortor consequat id porta. Tellus pellentesque eu tincidunt tortor aliquam nulla. Egestas maecenas pharetra convallis posuere morbi leo urna molestie. Bibendum at varius vel pharetra vel. Feugiat vivamus at augue eget arcu. Vitae et leo duis ut diam quam. Sed euismod nisi porta lorem mollis aliquam ut porttitor. In hac habitasse platea dictumst quisque sagittis purus sit. Et ligula ullamcorper malesuada proin libero.\n",
    "\n",
    "Sollicitudin tempor id eu nisl nunc mi. Sit amet purus gravida quis blandit turpis cursus. Integer enim neque volutpat ac. Faucibus vitae aliquet nec ullamcorper sit amet risus nullam. Morbi leo urna molestie at. Quam id leo in vitae turpis massa. Orci porta non pulvinar neque laoreet suspendisse. Quisque id diam vel quam elementum pulvinar etiam non quam. Vel facilisis volutpat est velit. Adipiscing tristique risus nec feugiat. Convallis convallis tellus id interdum. Tempor commodo ullamcorper a lacus vestibulum sed arcu non. Arcu bibendum at varius vel pharetra. Lectus quam id leo in vitae turpis massa sed. Urna molestie at elementum eu facilisis sed odio. Diam quis enim lobortis scelerisque fermentum dui faucibus. Sed viverra ipsum nunc aliquet bibendum enim facilisis.\n",
    "\n",
    "Lacus luctus accumsan tortor posuere ac ut consequat semper. Aliquam ut porttitor leo a. Praesent tristique magna sit amet purus gravida quis blandit. Viverra ipsum nunc aliquet bibendum. Nunc non blandit massa enim nec dui nunc mattis enim. Elit eget gravida cum sociis natoque penatibus et. Nulla porttitor massa id neque aliquam. Et malesuada fames ac turpis egestas sed tempus. Tincidunt dui ut ornare lectus sit amet est. Eu volutpat odio facilisis mauris. Nunc pulvinar sapien et ligula ullamcorper malesuada proin. Leo urna molestie at elementum. Id faucibus nisl tincidunt eget nullam non nisi. Gravida quis blandit turpis cursus in hac habitasse platea. Ut tortor pretium viverra suspendisse. Accumsan in nisl nisi scelerisque eu ultrices vitae.\n",
    "\n",
    "Eu consequat ac felis donec. Vitae aliquet nec ullamcorper sit amet risus nullam eget. Ultrices sagittis orci a scelerisque purus semper eget duis. Sed arcu non odio euismod lacinia. Ornare quam viverra orci sagittis eu. Tristique senectus et netus et malesuada fames ac turpis egestas. Ultrices in iaculis nunc sed augue lacus viverra vitae congue. In nulla posuere sollicitudin aliquam ultrices. Porta non pulvinar neque laoreet suspendisse interdum. Ullamcorper morbi tincidunt ornare massa eget egestas purus viverra accumsan. Diam phasellus vestibulum lorem sed risus. Sit amet aliquam id diam maecenas ultricies mi eget.'''"
   ]
  },
  {
   "cell_type": "code",
   "execution_count": 67,
   "metadata": {},
   "outputs": [],
   "source": [
    "# 말뭉치 -> 소문자 / 구둣점 / 숫자 제거"
   ]
  },
  {
   "cell_type": "code",
   "execution_count": 68,
   "metadata": {},
   "outputs": [
    {
     "name": "stdout",
     "output_type": "stream",
     "text": [
      "Lorem ipsum dolor sit amet consectetur adipiscing elit sed do eiusmod tempor incididunt ut labore et dolore magna aliqua Ultrices gravida dictum fusce ut placerat orci nulla pellentesque Neque sodales ut etiam sit amet nisl purus in mollis Volutpat commodo sed egestas egestas fringilla phasellus faucibus Eget duis at tellus at urna condimentum mattis pellentesque Viverra maecenas accumsan lacus vel facilisis volutpat est Libero justo laoreet sit amet cursus sit amet dictum Sed vulputate mi sit amet Vitae semper quis lectus nulla at volutpat Enim ut sem viverra aliquet Et odio pellentesque diam volutpat commodo sed Eleifend quam adipiscing vitae proin sagittis nisl Felis eget nunc lobortis mattis Ipsum dolor sit amet consectetur adipiscing Sed elementum tempus egestas sed sed Amet nulla facilisi morbi tempus iaculis urna id volutpat lacus Vulputate sapien nec sagittis aliquam malesuada bibendum arcu vitae elementum Cras adipiscing enim eu turpis egestas pretium\n",
      "\n",
      "Auctor elit sed vulputate mi Sit amet purus gravida quis blandit turpis cursus in Mattis nunc sed blandit libero volutpat sed cras ornare Aliquam sem et tortor consequat id porta Tellus pellentesque eu tincidunt tortor aliquam nulla Egestas maecenas pharetra convallis posuere morbi leo urna molestie Bibendum at varius vel pharetra vel Feugiat vivamus at augue eget arcu Vitae et leo duis ut diam quam Sed euismod nisi porta lorem mollis aliquam ut porttitor In hac habitasse platea dictumst quisque sagittis purus sit Et ligula ullamcorper malesuada proin libero\n",
      "\n",
      "Sollicitudin tempor id eu nisl nunc mi Sit amet purus gravida quis blandit turpis cursus Integer enim neque volutpat ac Faucibus vitae aliquet nec ullamcorper sit amet risus nullam Morbi leo urna molestie at Quam id leo in vitae turpis massa Orci porta non pulvinar neque laoreet suspendisse Quisque id diam vel quam elementum pulvinar etiam non quam Vel facilisis volutpat est velit Adipiscing tristique risus nec feugiat Convallis convallis tellus id interdum Tempor commodo ullamcorper a lacus vestibulum sed arcu non Arcu bibendum at varius vel pharetra Lectus quam id leo in vitae turpis massa sed Urna molestie at elementum eu facilisis sed odio Diam quis enim lobortis scelerisque fermentum dui faucibus Sed viverra ipsum nunc aliquet bibendum enim facilisis\n",
      "\n",
      "Lacus luctus accumsan tortor posuere ac ut consequat semper Aliquam ut porttitor leo a Praesent tristique magna sit amet purus gravida quis blandit Viverra ipsum nunc aliquet bibendum Nunc non blandit massa enim nec dui nunc mattis enim Elit eget gravida cum sociis natoque penatibus et Nulla porttitor massa id neque aliquam Et malesuada fames ac turpis egestas sed tempus Tincidunt dui ut ornare lectus sit amet est Eu volutpat odio facilisis mauris Nunc pulvinar sapien et ligula ullamcorper malesuada proin Leo urna molestie at elementum Id faucibus nisl tincidunt eget nullam non nisi Gravida quis blandit turpis cursus in hac habitasse platea Ut tortor pretium viverra suspendisse Accumsan in nisl nisi scelerisque eu ultrices vitae\n",
      "\n",
      "Eu consequat ac felis donec Vitae aliquet nec ullamcorper sit amet risus nullam eget Ultrices sagittis orci a scelerisque purus semper eget duis Sed arcu non odio euismod lacinia Ornare quam viverra orci sagittis eu Tristique senectus et netus et malesuada fames ac turpis egestas Ultrices in iaculis nunc sed augue lacus viverra vitae congue In nulla posuere sollicitudin aliquam ultrices Porta non pulvinar neque laoreet suspendisse interdum Ullamcorper morbi tincidunt ornare massa eget egestas purus viverra accumsan Diam phasellus vestibulum lorem sed risus Sit amet aliquam id diam maecenas ultricies mi eget\n"
     ]
    }
   ],
   "source": [
    "# 구둣점, 숫자 삭제\n",
    "import re\n",
    "import string\n",
    "lorem = re.sub(f'[{string.punctuation}0-9]', '', lorem, flags=re.MULTILINE)\n",
    "print(lorem)"
   ]
  },
  {
   "cell_type": "code",
   "execution_count": 69,
   "metadata": {},
   "outputs": [
    {
     "name": "stdout",
     "output_type": "stream",
     "text": [
      "lorem ipsum dolor sit amet consectetur adipiscing elit sed do eiusmod tempor incididunt ut labore et dolore magna aliqua ultrices gravida dictum fusce ut placerat orci nulla pellentesque neque sodales ut etiam sit amet nisl purus in mollis volutpat commodo sed egestas egestas fringilla phasellus faucibus eget duis at tellus at urna condimentum mattis pellentesque viverra maecenas accumsan lacus vel facilisis volutpat est libero justo laoreet sit amet cursus sit amet dictum sed vulputate mi sit amet vitae semper quis lectus nulla at volutpat enim ut sem viverra aliquet et odio pellentesque diam volutpat commodo sed eleifend quam adipiscing vitae proin sagittis nisl felis eget nunc lobortis mattis ipsum dolor sit amet consectetur adipiscing sed elementum tempus egestas sed sed amet nulla facilisi morbi tempus iaculis urna id volutpat lacus vulputate sapien nec sagittis aliquam malesuada bibendum arcu vitae elementum cras adipiscing enim eu turpis egestas pretium\n",
      "\n",
      "auctor elit sed vulputate mi sit amet purus gravida quis blandit turpis cursus in mattis nunc sed blandit libero volutpat sed cras ornare aliquam sem et tortor consequat id porta tellus pellentesque eu tincidunt tortor aliquam nulla egestas maecenas pharetra convallis posuere morbi leo urna molestie bibendum at varius vel pharetra vel feugiat vivamus at augue eget arcu vitae et leo duis ut diam quam sed euismod nisi porta lorem mollis aliquam ut porttitor in hac habitasse platea dictumst quisque sagittis purus sit et ligula ullamcorper malesuada proin libero\n",
      "\n",
      "sollicitudin tempor id eu nisl nunc mi sit amet purus gravida quis blandit turpis cursus integer enim neque volutpat ac faucibus vitae aliquet nec ullamcorper sit amet risus nullam morbi leo urna molestie at quam id leo in vitae turpis massa orci porta non pulvinar neque laoreet suspendisse quisque id diam vel quam elementum pulvinar etiam non quam vel facilisis volutpat est velit adipiscing tristique risus nec feugiat convallis convallis tellus id interdum tempor commodo ullamcorper a lacus vestibulum sed arcu non arcu bibendum at varius vel pharetra lectus quam id leo in vitae turpis massa sed urna molestie at elementum eu facilisis sed odio diam quis enim lobortis scelerisque fermentum dui faucibus sed viverra ipsum nunc aliquet bibendum enim facilisis\n",
      "\n",
      "lacus luctus accumsan tortor posuere ac ut consequat semper aliquam ut porttitor leo a praesent tristique magna sit amet purus gravida quis blandit viverra ipsum nunc aliquet bibendum nunc non blandit massa enim nec dui nunc mattis enim elit eget gravida cum sociis natoque penatibus et nulla porttitor massa id neque aliquam et malesuada fames ac turpis egestas sed tempus tincidunt dui ut ornare lectus sit amet est eu volutpat odio facilisis mauris nunc pulvinar sapien et ligula ullamcorper malesuada proin leo urna molestie at elementum id faucibus nisl tincidunt eget nullam non nisi gravida quis blandit turpis cursus in hac habitasse platea ut tortor pretium viverra suspendisse accumsan in nisl nisi scelerisque eu ultrices vitae\n",
      "\n",
      "eu consequat ac felis donec vitae aliquet nec ullamcorper sit amet risus nullam eget ultrices sagittis orci a scelerisque purus semper eget duis sed arcu non odio euismod lacinia ornare quam viverra orci sagittis eu tristique senectus et netus et malesuada fames ac turpis egestas ultrices in iaculis nunc sed augue lacus viverra vitae congue in nulla posuere sollicitudin aliquam ultrices porta non pulvinar neque laoreet suspendisse interdum ullamcorper morbi tincidunt ornare massa eget egestas purus viverra accumsan diam phasellus vestibulum lorem sed risus sit amet aliquam id diam maecenas ultricies mi eget\n"
     ]
    }
   ],
   "source": [
    "# 소문자로 변경\n",
    "lorem = lorem.lower()\n",
    "print(lorem)"
   ]
  },
  {
   "cell_type": "code",
   "execution_count": 70,
   "metadata": {},
   "outputs": [
    {
     "name": "stdout",
     "output_type": "stream",
     "text": [
      "['lorem', 'ipsum', 'dolor', 'sit', 'amet', 'consectetur', 'adipiscing', 'elit', 'sed', 'do', 'eiusmod', 'tempor', 'incididunt', 'ut', 'labore', 'et', 'dolore', 'magna', 'aliqua', 'ultrices', 'gravida', 'dictum', 'fusce', 'ut', 'placerat', 'orci', 'nulla', 'pellentesque', 'neque', 'sodales', 'ut', 'etiam', 'sit', 'amet', 'nisl', 'purus', 'in', 'mollis', 'volutpat', 'commodo', 'sed', 'egestas', 'egestas', 'fringilla', 'phasellus', 'faucibus', 'eget', 'duis', 'at', 'tellus', 'at', 'urna', 'condimentum', 'mattis', 'pellentesque', 'viverra', 'maecenas', 'accumsan', 'lacus', 'vel', 'facilisis', 'volutpat', 'est', 'libero', 'justo', 'laoreet', 'sit', 'amet', 'cursus', 'sit', 'amet', 'dictum', 'sed', 'vulputate', 'mi', 'sit', 'amet', 'vitae', 'semper', 'quis', 'lectus', 'nulla', 'at', 'volutpat', 'enim', 'ut', 'sem', 'viverra', 'aliquet', 'et', 'odio', 'pellentesque', 'diam', 'volutpat', 'commodo', 'sed', 'eleifend', 'quam', 'adipiscing', 'vitae', 'proin', 'sagittis', 'nisl', 'felis', 'eget', 'nunc', 'lobortis', 'mattis', 'ipsum', 'dolor', 'sit', 'amet', 'consectetur', 'adipiscing', 'sed', 'elementum', 'tempus', 'egestas', 'sed', 'sed', 'amet', 'nulla', 'facilisi', 'morbi', 'tempus', 'iaculis', 'urna', 'id', 'volutpat', 'lacus', 'vulputate', 'sapien', 'nec', 'sagittis', 'aliquam', 'malesuada', 'bibendum', 'arcu', 'vitae', 'elementum', 'cras', 'adipiscing', 'enim', 'eu', 'turpis', 'egestas', 'pretium', 'auctor', 'elit', 'sed', 'vulputate', 'mi', 'sit', 'amet', 'purus', 'gravida', 'quis', 'blandit', 'turpis', 'cursus', 'in', 'mattis', 'nunc', 'sed', 'blandit', 'libero', 'volutpat', 'sed', 'cras', 'ornare', 'aliquam', 'sem', 'et', 'tortor', 'consequat', 'id', 'porta', 'tellus', 'pellentesque', 'eu', 'tincidunt', 'tortor', 'aliquam', 'nulla', 'egestas', 'maecenas', 'pharetra', 'convallis', 'posuere', 'morbi', 'leo', 'urna', 'molestie', 'bibendum', 'at', 'varius', 'vel', 'pharetra', 'vel', 'feugiat', 'vivamus', 'at', 'augue', 'eget', 'arcu', 'vitae', 'et', 'leo', 'duis', 'ut', 'diam', 'quam', 'sed', 'euismod', 'nisi', 'porta', 'lorem', 'mollis', 'aliquam', 'ut', 'porttitor', 'in', 'hac', 'habitasse', 'platea', 'dictumst', 'quisque', 'sagittis', 'purus', 'sit', 'et', 'ligula', 'ullamcorper', 'malesuada', 'proin', 'libero', 'sollicitudin', 'tempor', 'id', 'eu', 'nisl', 'nunc', 'mi', 'sit', 'amet', 'purus', 'gravida', 'quis', 'blandit', 'turpis', 'cursus', 'integer', 'enim', 'neque', 'volutpat', 'ac', 'faucibus', 'vitae', 'aliquet', 'nec', 'ullamcorper', 'sit', 'amet', 'risus', 'nullam', 'morbi', 'leo', 'urna', 'molestie', 'at', 'quam', 'id', 'leo', 'in', 'vitae', 'turpis', 'massa', 'orci', 'porta', 'non', 'pulvinar', 'neque', 'laoreet', 'suspendisse', 'quisque', 'id', 'diam', 'vel', 'quam', 'elementum', 'pulvinar', 'etiam', 'non', 'quam', 'vel', 'facilisis', 'volutpat', 'est', 'velit', 'adipiscing', 'tristique', 'risus', 'nec', 'feugiat', 'convallis', 'convallis', 'tellus', 'id', 'interdum', 'tempor', 'commodo', 'ullamcorper', 'a', 'lacus', 'vestibulum', 'sed', 'arcu', 'non', 'arcu', 'bibendum', 'at', 'varius', 'vel', 'pharetra', 'lectus', 'quam', 'id', 'leo', 'in', 'vitae', 'turpis', 'massa', 'sed', 'urna', 'molestie', 'at', 'elementum', 'eu', 'facilisis', 'sed', 'odio', 'diam', 'quis', 'enim', 'lobortis', 'scelerisque', 'fermentum', 'dui', 'faucibus', 'sed', 'viverra', 'ipsum', 'nunc', 'aliquet', 'bibendum', 'enim', 'facilisis', 'lacus', 'luctus', 'accumsan', 'tortor', 'posuere', 'ac', 'ut', 'consequat', 'semper', 'aliquam', 'ut', 'porttitor', 'leo', 'a', 'praesent', 'tristique', 'magna', 'sit', 'amet', 'purus', 'gravida', 'quis', 'blandit', 'viverra', 'ipsum', 'nunc', 'aliquet', 'bibendum', 'nunc', 'non', 'blandit', 'massa', 'enim', 'nec', 'dui', 'nunc', 'mattis', 'enim', 'elit', 'eget', 'gravida', 'cum', 'sociis', 'natoque', 'penatibus', 'et', 'nulla', 'porttitor', 'massa', 'id', 'neque', 'aliquam', 'et', 'malesuada', 'fames', 'ac', 'turpis', 'egestas', 'sed', 'tempus', 'tincidunt', 'dui', 'ut', 'ornare', 'lectus', 'sit', 'amet', 'est', 'eu', 'volutpat', 'odio', 'facilisis', 'mauris', 'nunc', 'pulvinar', 'sapien', 'et', 'ligula', 'ullamcorper', 'malesuada', 'proin', 'leo', 'urna', 'molestie', 'at', 'elementum', 'id', 'faucibus', 'nisl', 'tincidunt', 'eget', 'nullam', 'non', 'nisi', 'gravida', 'quis', 'blandit', 'turpis', 'cursus', 'in', 'hac', 'habitasse', 'platea', 'ut', 'tortor', 'pretium', 'viverra', 'suspendisse', 'accumsan', 'in', 'nisl', 'nisi', 'scelerisque', 'eu', 'ultrices', 'vitae', 'eu', 'consequat', 'ac', 'felis', 'donec', 'vitae', 'aliquet', 'nec', 'ullamcorper', 'sit', 'amet', 'risus', 'nullam', 'eget', 'ultrices', 'sagittis', 'orci', 'a', 'scelerisque', 'purus', 'semper', 'eget', 'duis', 'sed', 'arcu', 'non', 'odio', 'euismod', 'lacinia', 'ornare', 'quam', 'viverra', 'orci', 'sagittis', 'eu', 'tristique', 'senectus', 'et', 'netus', 'et', 'malesuada', 'fames', 'ac', 'turpis', 'egestas', 'ultrices', 'in', 'iaculis', 'nunc', 'sed', 'augue', 'lacus', 'viverra', 'vitae', 'congue', 'in', 'nulla', 'posuere', 'sollicitudin', 'aliquam', 'ultrices', 'porta', 'non', 'pulvinar', 'neque', 'laoreet', 'suspendisse', 'interdum', 'ullamcorper', 'morbi', 'tincidunt', 'ornare', 'massa', 'eget', 'egestas', 'purus', 'viverra', 'accumsan', 'diam', 'phasellus', 'vestibulum', 'lorem', 'sed', 'risus', 'sit', 'amet', 'aliquam', 'id', 'diam', 'maecenas', 'ultricies', 'mi', 'eget']\n"
     ]
    }
   ],
   "source": [
    "# 분리하기 위해 단어 리스트로 쪼갬.\n",
    "lorem_list = lorem.split()\n",
    "print(lorem_list)"
   ]
  },
  {
   "cell_type": "code",
   "execution_count": 71,
   "metadata": {},
   "outputs": [
    {
     "name": "stdout",
     "output_type": "stream",
     "text": [
      "{'lorem': 3, 'ipsum': 4, 'dolor': 2, 'sit': 14, 'amet': 14, 'consectetur': 2, 'adipiscing': 5, 'elit': 3, 'sed': 19, 'do': 1, 'eiusmod': 1, 'tempor': 3, 'incididunt': 1, 'ut': 10, 'labore': 1, 'et': 10, 'dolore': 1, 'magna': 2, 'aliqua': 1, 'ultrices': 5, 'gravida': 6, 'dictum': 2, 'fusce': 1, 'placerat': 1, 'orci': 4, 'nulla': 6, 'pellentesque': 4, 'neque': 5, 'sodales': 1, 'etiam': 2, 'nisl': 5, 'purus': 7, 'in': 9, 'mollis': 2, 'volutpat': 9, 'commodo': 3, 'egestas': 8, 'fringilla': 1, 'phasellus': 2, 'faucibus': 4, 'eget': 9, 'duis': 3, 'at': 9, 'tellus': 3, 'urna': 6, 'condimentum': 1, 'mattis': 4, 'viverra': 8, 'maecenas': 3, 'accumsan': 4, 'lacus': 5, 'vel': 6, 'facilisis': 5, 'est': 3, 'libero': 3, 'justo': 1, 'laoreet': 3, 'cursus': 4, 'vulputate': 3, 'mi': 4, 'vitae': 10, 'semper': 3, 'quis': 6, 'lectus': 3, 'enim': 7, 'sem': 2, 'aliquet': 5, 'odio': 4, 'diam': 6, 'eleifend': 1, 'quam': 7, 'proin': 3, 'sagittis': 5, 'felis': 2, 'nunc': 9, 'lobortis': 2, 'elementum': 5, 'tempus': 3, 'facilisi': 1, 'morbi': 4, 'iaculis': 2, 'id': 10, 'sapien': 2, 'nec': 5, 'aliquam': 8, 'malesuada': 5, 'bibendum': 5, 'arcu': 5, 'cras': 2, 'eu': 8, 'turpis': 8, 'pretium': 2, 'auctor': 1, 'blandit': 6, 'ornare': 4, 'tortor': 4, 'consequat': 3, 'porta': 4, 'tincidunt': 4, 'pharetra': 3, 'convallis': 3, 'posuere': 3, 'leo': 7, 'molestie': 4, 'varius': 2, 'feugiat': 2, 'vivamus': 1, 'augue': 2, 'euismod': 2, 'nisi': 3, 'porttitor': 3, 'hac': 2, 'habitasse': 2, 'platea': 2, 'dictumst': 1, 'quisque': 2, 'ligula': 2, 'ullamcorper': 6, 'sollicitudin': 2, 'integer': 1, 'ac': 5, 'risus': 4, 'nullam': 3, 'massa': 5, 'non': 7, 'pulvinar': 4, 'suspendisse': 3, 'velit': 1, 'tristique': 3, 'interdum': 2, 'a': 3, 'vestibulum': 2, 'scelerisque': 3, 'fermentum': 1, 'dui': 3, 'luctus': 1, 'praesent': 1, 'cum': 1, 'sociis': 1, 'natoque': 1, 'penatibus': 1, 'fames': 2, 'mauris': 1, 'donec': 1, 'lacinia': 1, 'senectus': 1, 'netus': 1, 'congue': 1, 'ultricies': 1}\n"
     ]
    }
   ],
   "source": [
    "word_dict = {}\n",
    "for word in lorem_list:\n",
    "    if word in word_dict.keys():\n",
    "        word_dict[word] += 1\n",
    "    else:\n",
    "        word_dict.update({word : 1})\n",
    "print(word_dict)"
   ]
  },
  {
   "cell_type": "code",
   "execution_count": 72,
   "metadata": {},
   "outputs": [
    {
     "name": "stdout",
     "output_type": "stream",
     "text": [
      "['sed', 'sit', 'amet', 'ut', 'et', 'vitae', 'id', 'in', 'volutpat', 'eget', 'at', 'nunc', 'egestas', 'viverra', 'aliquam', 'eu', 'turpis', 'purus', 'enim', 'quam', 'leo', 'non', 'gravida', 'nulla', 'urna', 'vel', 'quis', 'diam', 'blandit', 'ullamcorper', 'adipiscing', 'ultrices', 'neque', 'nisl', 'lacus', 'facilisis', 'aliquet', 'sagittis', 'elementum', 'nec', 'malesuada', 'bibendum', 'arcu', 'ac', 'massa', 'ipsum', 'orci', 'pellentesque', 'faucibus', 'mattis', 'accumsan', 'cursus', 'mi', 'odio', 'morbi', 'ornare', 'tortor', 'porta', 'tincidunt', 'molestie', 'risus', 'pulvinar', 'lorem', 'elit', 'tempor', 'commodo', 'duis', 'tellus', 'maecenas', 'est', 'libero', 'laoreet', 'vulputate', 'semper', 'lectus', 'proin', 'tempus', 'consequat', 'pharetra', 'convallis', 'posuere', 'nisi', 'porttitor', 'nullam', 'suspendisse', 'tristique', 'a', 'scelerisque', 'dui', 'dolor', 'consectetur', 'magna', 'dictum', 'etiam', 'mollis', 'phasellus', 'sem', 'felis', 'lobortis', 'iaculis', 'sapien', 'cras', 'pretium', 'varius', 'feugiat', 'augue', 'euismod', 'hac', 'habitasse', 'platea', 'quisque', 'ligula', 'sollicitudin', 'interdum', 'vestibulum', 'fames', 'do', 'eiusmod', 'incididunt', 'labore', 'dolore', 'aliqua', 'fusce', 'placerat', 'sodales', 'fringilla', 'condimentum', 'justo', 'eleifend', 'facilisi', 'auctor', 'vivamus', 'dictumst', 'integer', 'velit', 'fermentum', 'luctus', 'praesent', 'cum', 'sociis', 'natoque', 'penatibus', 'mauris', 'donec', 'lacinia', 'senectus', 'netus', 'congue', 'ultricies']\n"
     ]
    }
   ],
   "source": [
    "sorted_words = sorted(word_dict, key=lambda k : word_dict[k], reverse = True)\n",
    "print(sorted_words)"
   ]
  },
  {
   "cell_type": "code",
   "execution_count": 73,
   "metadata": {},
   "outputs": [
    {
     "name": "stdout",
     "output_type": "stream",
     "text": [
      "sed 19\n",
      "sit 14\n",
      "amet 14\n",
      "ut 10\n",
      "et 10\n",
      "vitae 10\n",
      "id 10\n",
      "in 9\n",
      "volutpat 9\n",
      "eget 9\n"
     ]
    }
   ],
   "source": [
    "for index, value in enumerate(sorted_words):\n",
    "    if index == 10:\n",
    "        break;\n",
    "    print(value, word_dict[value])"
   ]
  },
  {
   "cell_type": "markdown",
   "metadata": {},
   "source": [
    "# Unit 27. 파일 사용하기"
   ]
  },
  {
   "cell_type": "code",
   "execution_count": 9,
   "metadata": {},
   "outputs": [],
   "source": [
    "file = open('hello.txt', 'w')    # hello.txt 파일을 쓰기 모드(w)로 열기. 파일 객체 반환\n",
    "file.write('Hello, world!')      # 파일에 문자열 저장\n",
    "file.close()"
   ]
  },
  {
   "cell_type": "code",
   "execution_count": 10,
   "metadata": {},
   "outputs": [
    {
     "name": "stdout",
     "output_type": "stream",
     "text": [
      "Hello, world!\n"
     ]
    }
   ],
   "source": [
    "file = open('hello.txt', 'r')    # hello.txt 파일을 읽기 모드(r)로 열기. 파일 객체 반환\n",
    "s = file.read()                  # 파일에서 문자열 읽기\n",
    "print(s)                         # Hello, world!\n",
    "file.close()  "
   ]
  },
  {
   "cell_type": "code",
   "execution_count": 24,
   "metadata": {},
   "outputs": [
    {
     "name": "stdout",
     "output_type": "stream",
     "text": [
      "안녕하세요.\n",
      "파이썬\n",
      "코딩 도장입니다.\n",
      "\n"
     ]
    }
   ],
   "source": [
    "with open('hello.txt', 'r') as file:    # hello.txt 파일을 읽기 모드(r)로 열기\n",
    "    s = file.read()                     # 파일에서 문자열 읽기\n",
    "    print(s) "
   ]
  },
  {
   "cell_type": "code",
   "execution_count": 19,
   "metadata": {},
   "outputs": [],
   "source": [
    "with open('hello.txt', 'w') as file:    # hello.txt 파일을 쓰기 모드(w)로 열기\n",
    "    for i in range(3):\n",
    "        file.write(f'Hello, world! {i+1}\\n')"
   ]
  },
  {
   "cell_type": "code",
   "execution_count": 21,
   "metadata": {},
   "outputs": [],
   "source": [
    "lines = ['안녕하세요.\\n', '파이썬\\n', '코딩 도장입니다.\\n']\n",
    "\n",
    "with open('hello.txt', 'w') as file :\n",
    "    file.writelines(lines)"
   ]
  },
  {
   "cell_type": "code",
   "execution_count": 23,
   "metadata": {},
   "outputs": [],
   "source": [
    "lines = ''.join(lines)\n",
    "with open('hello.txt', 'w') as file :\n",
    "    file.write(lines)"
   ]
  },
  {
   "cell_type": "code",
   "execution_count": 25,
   "metadata": {},
   "outputs": [
    {
     "name": "stdout",
     "output_type": "stream",
     "text": [
      "['안녕하세요.\\n', '파이썬\\n', '코딩 도장입니다.\\n']\n"
     ]
    }
   ],
   "source": [
    "with open('hello.txt', 'r') as file:    # hello.txt 파일을 읽기 모드(r)로 열기\n",
    "    lines = file.readlines()\n",
    "    print(lines)"
   ]
  },
  {
   "cell_type": "code",
   "execution_count": 28,
   "metadata": {},
   "outputs": [
    {
     "name": "stdout",
     "output_type": "stream",
     "text": [
      "안녕하세요.\n",
      "파이썬\n",
      "코딩 도장입니다.\n",
      "\n"
     ]
    }
   ],
   "source": [
    "# 파일의 내용을 한 줄씩 읽기 - 암기해야함\n",
    "# 몇 번 반복될 지 모르기에 while 사용.\n",
    "\n",
    "with open('hello.txt', 'r') as file:    # hello.txt 파일을 읽기 모드(r)로 열기\n",
    "    line = None    # 변수 line을 None으로 초기화\n",
    "    while line != '': # 라인이 빈 공간이 되지 않을 동안에 file.readline 하는 것임\n",
    "        line = file.readline()\n",
    "        print(line.strip('\\n'))"
   ]
  },
  {
   "cell_type": "code",
   "execution_count": 30,
   "metadata": {},
   "outputs": [
    {
     "name": "stdout",
     "output_type": "stream",
     "text": [
      "안녕하세요.\n",
      "파이썬\n",
      "코딩 도장입니다.\n"
     ]
    }
   ],
   "source": [
    "# for 반복문으로 파일의 내용을 줄 단위로 읽기\n",
    "with open('hello.txt', 'r') as file:    # hello.txt 파일을 읽기 모드(r)로 열기\n",
    "    for line in file:    # for에 파일 객체를 지정하면 파일의 내용을 한 줄씩 읽어서 변수에 저장함\n",
    "        print(line.strip('\\n'))    # 파일에서 읽어온 문자열에서 \\n 삭제하여 출력"
   ]
  },
  {
   "cell_type": "code",
   "execution_count": null,
   "metadata": {},
   "outputs": [],
   "source": [
    "# for loop을 돌릴 수 있는 sequence 객체(range, \n",
    "#문자열, list, tuple, set, dict, file)"
   ]
  },
  {
   "cell_type": "code",
   "execution_count": null,
   "metadata": {},
   "outputs": [],
   "source": [
    "# 파이썬 객체를 파일에 저장하기"
   ]
  },
  {
   "cell_type": "code",
   "execution_count": 32,
   "metadata": {},
   "outputs": [],
   "source": [
    "import pickle\n",
    "name = 'James'\n",
    "age = 17\n",
    "address = '서울시 서초구 반포동'\n",
    "scores = {'korean':90, 'english':95, 'mathematics':85, 'science':82}\n",
    "\n",
    "with open('james.p', 'wb') as file: #wb : binary\n",
    "    pickle.dump(name, file)\n",
    "    pickle.dump(age, file)\n",
    "    pickle.dump(address, file)\n",
    "    pickle.dump(scores, file)    "
   ]
  },
  {
   "cell_type": "code",
   "execution_count": 33,
   "metadata": {},
   "outputs": [
    {
     "name": "stdout",
     "output_type": "stream",
     "text": [
      "James\n",
      "17\n",
      "서울시 서초구 반포동\n",
      "{'korean': 90, 'english': 95, 'mathematics': 85, 'science': 82}\n"
     ]
    }
   ],
   "source": [
    "import pickle\n",
    " \n",
    "with open('james.p', 'rb') as file:    # james.p 파일을 바이너리 읽기 모드(rb)로 열기\n",
    "    name = pickle.load(file)\n",
    "    age = pickle.load(file)\n",
    "    address = pickle.load(file)\n",
    "    scores = pickle.load(file)\n",
    "    print(name)\n",
    "    print(age)\n",
    "    print(address)\n",
    "    print(scores)"
   ]
  },
  {
   "cell_type": "code",
   "execution_count": 41,
   "metadata": {},
   "outputs": [
    {
     "ename": "ValueError",
     "evalue": "I/O operation on closed file.",
     "output_type": "error",
     "traceback": [
      "\u001b[1;31m---------------------------------------------------------------------------\u001b[0m",
      "\u001b[1;31mValueError\u001b[0m                                Traceback (most recent call last)",
      "\u001b[1;32m<ipython-input-41-eb17c99da8b1>\u001b[0m in \u001b[0;36m<module>\u001b[1;34m\u001b[0m\n\u001b[0;32m      1\u001b[0m \u001b[1;32mwith\u001b[0m \u001b[0mopen\u001b[0m\u001b[1;33m(\u001b[0m\u001b[1;34m'words.txt'\u001b[0m\u001b[1;33m,\u001b[0m \u001b[1;34m'r'\u001b[0m\u001b[1;33m)\u001b[0m \u001b[1;32mas\u001b[0m \u001b[0mfile\u001b[0m\u001b[1;33m:\u001b[0m\u001b[1;33m\u001b[0m\u001b[1;33m\u001b[0m\u001b[0m\n\u001b[0;32m      2\u001b[0m     \u001b[0mcount\u001b[0m \u001b[1;33m=\u001b[0m \u001b[1;36m0\u001b[0m\u001b[1;33m\u001b[0m\u001b[1;33m\u001b[0m\u001b[0m\n\u001b[1;32m----> 3\u001b[1;33m \u001b[0mwords\u001b[0m \u001b[1;33m=\u001b[0m \u001b[0mfile\u001b[0m\u001b[1;33m.\u001b[0m\u001b[0mread\u001b[0m\u001b[1;33m(\u001b[0m\u001b[1;33m)\u001b[0m\u001b[1;33m\u001b[0m\u001b[1;33m\u001b[0m\u001b[0m\n\u001b[0m\u001b[0;32m      4\u001b[0m \u001b[1;32mfor\u001b[0m \u001b[0mword\u001b[0m \u001b[1;32min\u001b[0m \u001b[0mwords\u001b[0m\u001b[1;33m:\u001b[0m\u001b[1;33m\u001b[0m\u001b[1;33m\u001b[0m\u001b[0m\n\u001b[0;32m      5\u001b[0m     \u001b[1;32mif\u001b[0m \u001b[0mlen\u001b[0m\u001b[1;33m(\u001b[0m\u001b[0mword\u001b[0m\u001b[1;33m.\u001b[0m\u001b[0mstrip\u001b[0m\u001b[1;33m(\u001b[0m\u001b[1;34m'\\n'\u001b[0m\u001b[1;33m)\u001b[0m\u001b[1;33m)\u001b[0m \u001b[1;33m<=\u001b[0m \u001b[1;36m10\u001b[0m\u001b[1;33m:\u001b[0m\u001b[1;33m\u001b[0m\u001b[1;33m\u001b[0m\u001b[0m\n",
      "\u001b[1;31mValueError\u001b[0m: I/O operation on closed file."
     ]
    }
   ],
   "source": [
    "with open('words.txt', 'r') as file:\n",
    "    count = 0\n",
    "words = file.read()\n",
    "for word in words:\n",
    "    if len(word.strip('\\n')) <= 10:\n",
    "        count += 1\n",
    "print(count)"
   ]
  },
  {
   "cell_type": "code",
   "execution_count": 62,
   "metadata": {},
   "outputs": [],
   "source": [
    "lines = ['Fortunately, however, for the reputation of Asteroid B-612, a Turkish dictator made a law that his subjects, under pain of death, should change to European costume. So in 1920 the astronomer gave his demonstration all over again, dressed with impressive style and elegance. And this time everybody accepted his report.']\n",
    "\n",
    "with open('james_json', 'w') as file :\n",
    "    file.writelines(lines)"
   ]
  },
  {
   "cell_type": "code",
   "execution_count": 58,
   "metadata": {},
   "outputs": [
    {
     "name": "stdout",
     "output_type": "stream",
     "text": [
      "Fortunately, however, for the reputation of Asteroid B-612, a Turkish dictator made a law that his subjects, under pain of death, should change to European costume. So in 1920 the astronomer gave his demonstration all over again, dressed with impressive style and elegance. And this time everybody accepted his report.\n"
     ]
    }
   ],
   "source": [
    "with open('words.txt', 'r') as file:    # hello.txt 파일을 읽기 모드(r)로 열기\n",
    "    s = file.read()                     # 파일에서 문자열 읽기\n",
    "    print(s) "
   ]
  },
  {
   "cell_type": "code",
   "execution_count": 59,
   "metadata": {},
   "outputs": [
    {
     "name": "stdout",
     "output_type": "stream",
     "text": [
      "['Fortunately,', 'however,', 'for', 'the', 'reputation', 'of', 'Asteroid', 'B-612,', 'a', 'Turkish', 'dictator', 'made', 'a', 'law', 'that', 'his', 'subjects,', 'under', 'pain', 'of', 'death,', 'should', 'change', 'to', 'European', 'costume.', 'So', 'in', '1920', 'the', 'astronomer', 'gave', 'his', 'demonstration', 'all', 'over', 'again,', 'dressed', 'with', 'impressive', 'style', 'and', 'elegance.', 'And', 'this', 'time', 'everybody', 'accepted', 'his', 'report.']\n"
     ]
    }
   ],
   "source": [
    "s_list=s.split()\n",
    "print(s_list)"
   ]
  },
  {
   "cell_type": "code",
   "execution_count": 56,
   "metadata": {},
   "outputs": [
    {
     "name": "stdout",
     "output_type": "stream",
     "text": [
      "{}\n"
     ]
    }
   ],
   "source": [
    "s_dict = {}\n",
    "for c in s_list:\n",
    "    if 'c' in s_dict.keys():\n",
    "        print(s_dict)\n",
    "print(s_dict)        "
   ]
  },
  {
   "cell_type": "code",
   "execution_count": 57,
   "metadata": {},
   "outputs": [
    {
     "name": "stdout",
     "output_type": "stream",
     "text": [
      "dictator\n",
      "subjects\n",
      "change\n",
      "costume\n",
      "elegance\n",
      "accepted\n"
     ]
    }
   ],
   "source": [
    "with open('words.txt','r')as file:\n",
    "    for line in file:\n",
    "        words=line.split()   #공백을 기준으로 분리해 리스트로\n",
    "        for word in words:\n",
    "            if 'c' in word:  #읽어 온 단어 중 'c'포함되면 출력\n",
    "                print(word.strip(',.'))"
   ]
  },
  {
   "cell_type": "markdown",
   "metadata": {},
   "source": [
    "# JSON 형태로 변환/복원"
   ]
  },
  {
   "cell_type": "code",
   "execution_count": 60,
   "metadata": {},
   "outputs": [
    {
     "ename": "NameError",
     "evalue": "name 'james_p' is not defined",
     "output_type": "error",
     "traceback": [
      "\u001b[1;31m---------------------------------------------------------------------------\u001b[0m",
      "\u001b[1;31mNameError\u001b[0m                                 Traceback (most recent call last)",
      "\u001b[1;32m<ipython-input-60-bb6ff2ac746b>\u001b[0m in \u001b[0;36m<module>\u001b[1;34m\u001b[0m\n\u001b[0;32m      1\u001b[0m \u001b[1;32mimport\u001b[0m \u001b[0mjson\u001b[0m\u001b[1;33m\u001b[0m\u001b[1;33m\u001b[0m\u001b[0m\n\u001b[1;32m----> 2\u001b[1;33m \u001b[0mjames_json\u001b[0m \u001b[1;33m=\u001b[0m \u001b[0mjson\u001b[0m\u001b[1;33m.\u001b[0m\u001b[0mdumps\u001b[0m\u001b[1;33m(\u001b[0m\u001b[0mjames_p\u001b[0m\u001b[1;33m)\u001b[0m\u001b[1;33m\u001b[0m\u001b[1;33m\u001b[0m\u001b[0m\n\u001b[0m\u001b[0;32m      3\u001b[0m \u001b[0mprint\u001b[0m\u001b[1;33m(\u001b[0m\u001b[0mjames_json\u001b[0m\u001b[1;33m)\u001b[0m\u001b[1;33m\u001b[0m\u001b[1;33m\u001b[0m\u001b[0m\n",
      "\u001b[1;31mNameError\u001b[0m: name 'james_p' is not defined"
     ]
    }
   ],
   "source": [
    "import json\n",
    "james_json = json.dumps(james_p)\n",
    "print(james_json)"
   ]
  },
  {
   "cell_type": "code",
   "execution_count": 65,
   "metadata": {},
   "outputs": [
    {
     "ename": "NameError",
     "evalue": "name 'james_json' is not defined",
     "output_type": "error",
     "traceback": [
      "\u001b[1;31m---------------------------------------------------------------------------\u001b[0m",
      "\u001b[1;31mNameError\u001b[0m                                 Traceback (most recent call last)",
      "\u001b[1;32m<ipython-input-65-e852544bc113>\u001b[0m in \u001b[0;36m<module>\u001b[1;34m\u001b[0m\n\u001b[0;32m      1\u001b[0m \u001b[1;32mwith\u001b[0m \u001b[0mopen\u001b[0m\u001b[1;33m(\u001b[0m\u001b[1;34m'james_json'\u001b[0m\u001b[1;33m,\u001b[0m \u001b[1;34m'r'\u001b[0m\u001b[1;33m)\u001b[0m \u001b[1;32mas\u001b[0m \u001b[0mfile\u001b[0m\u001b[1;33m:\u001b[0m\u001b[1;33m\u001b[0m\u001b[1;33m\u001b[0m\u001b[0m\n\u001b[1;32m----> 2\u001b[1;33m     \u001b[0mfile\u001b[0m\u001b[1;33m.\u001b[0m\u001b[0mwrite\u001b[0m\u001b[1;33m(\u001b[0m\u001b[0mjames_json\u001b[0m\u001b[1;33m)\u001b[0m\u001b[1;33m\u001b[0m\u001b[1;33m\u001b[0m\u001b[0m\n\u001b[0m",
      "\u001b[1;31mNameError\u001b[0m: name 'james_json' is not defined"
     ]
    }
   ],
   "source": [
    "with open('james_json', 'r') as file:\n",
    "    file.write(james_json)"
   ]
  },
  {
   "cell_type": "code",
   "execution_count": null,
   "metadata": {},
   "outputs": [],
   "source": [
    "james = json.loads(james_json)\n",
    "print(james)"
   ]
  },
  {
   "cell_type": "code",
   "execution_count": null,
   "metadata": {},
   "outputs": [],
   "source": [
    "# 피클데이터는 바이너리 데이터, 제이슨 데이터는 스트링 데이터"
   ]
  },
  {
   "cell_type": "code",
   "execution_count": null,
   "metadata": {},
   "outputs": [],
   "source": []
  },
  {
   "cell_type": "code",
   "execution_count": null,
   "metadata": {},
   "outputs": [],
   "source": []
  },
  {
   "cell_type": "code",
   "execution_count": null,
   "metadata": {},
   "outputs": [],
   "source": []
  }
 ],
 "metadata": {
  "kernelspec": {
   "display_name": "Python 3",
   "language": "python",
   "name": "python3"
  },
  "language_info": {
   "codemirror_mode": {
    "name": "ipython",
    "version": 3
   },
   "file_extension": ".py",
   "mimetype": "text/x-python",
   "name": "python",
   "nbconvert_exporter": "python",
   "pygments_lexer": "ipython3",
   "version": "3.8.3"
  }
 },
 "nbformat": 4,
 "nbformat_minor": 4
}
