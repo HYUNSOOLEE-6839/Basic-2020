{
 "cells": [
  {
   "cell_type": "markdown",
   "metadata": {},
   "source": [
    "# unit 19. 중첩 루프사용"
   ]
  },
  {
   "cell_type": "code",
   "execution_count": 2,
   "metadata": {},
   "outputs": [
    {
     "name": "stdout",
     "output_type": "stream",
     "text": [
      "k:0 k:1 k:2 k:3 k:4 i:0\\n\n",
      "k:0 k:1 k:2 k:3 k:4 i:1\\n\n",
      "k:0 k:1 k:2 k:3 k:4 i:2\\n\n",
      "k:0 k:1 k:2 k:3 k:4 i:3\\n\n",
      "k:0 k:1 k:2 k:3 k:4 i:4\\n\n"
     ]
    }
   ],
   "source": [
    "for i in range(5):         #행 \n",
    "    for k in range(5):     #열\n",
    "        print('k:', k, sep='', end=' ')\n",
    "    print('i:', i, '\\\\n', sep='')"
   ]
  },
  {
   "cell_type": "code",
   "execution_count": 6,
   "metadata": {},
   "outputs": [
    {
     "name": "stdout",
     "output_type": "stream",
     "text": [
      "* * * * * 0\n",
      "* * * * * 1\n",
      "* * * * * 2\n",
      "* * * * * 3\n",
      "* * * * * 4\n"
     ]
    }
   ],
   "source": [
    "for i in range(5):         #행 \n",
    "    for k in range(5):     #열\n",
    "        print('*', sep='', end=' ')\n",
    "    print(i)"
   ]
  },
  {
   "cell_type": "code",
   "execution_count": 51,
   "metadata": {},
   "outputs": [
    {
     "name": "stdout",
     "output_type": "stream",
     "text": [
      "*0\n",
      "**1\n",
      "***2\n",
      "****3\n",
      "*****4\n"
     ]
    }
   ],
   "source": [
    "for i in range(5):         #행 \n",
    "    for k in range(i+1):     #열\n",
    "        if k<=i:\n",
    "            print('*', sep='', end='')\n",
    "    print(i)"
   ]
  },
  {
   "cell_type": "code",
   "execution_count": 52,
   "metadata": {},
   "outputs": [
    {
     "name": "stdout",
     "output_type": "stream",
     "text": [
      "*0\n",
      "**1\n",
      "***2\n",
      "****3\n",
      "*****4\n"
     ]
    }
   ],
   "source": [
    "for i in range(5):         #행 \n",
    "    for k in range(i+1):     #열\n",
    "        print('*', sep='', end='')\n",
    "    print(i)"
   ]
  },
  {
   "cell_type": "code",
   "execution_count": 53,
   "metadata": {},
   "outputs": [
    {
     "name": "stdout",
     "output_type": "stream",
     "text": [
      "*1\n",
      "**2\n",
      "***3\n",
      "****4\n",
      "*****5\n"
     ]
    }
   ],
   "source": [
    "for i in range(1,6):         #행 \n",
    "    for k in range(i):     #열\n",
    "        print('*', sep='', end='')\n",
    "    print(i)"
   ]
  },
  {
   "cell_type": "code",
   "execution_count": 22,
   "metadata": {},
   "outputs": [
    {
     "name": "stdout",
     "output_type": "stream",
     "text": [
      "* 1\n",
      "* * * * 4\n",
      "* * * * * * * 7\n"
     ]
    }
   ],
   "source": [
    "for i in range(1,8,3):         #행 \n",
    "    for k in range(i):     #열\n",
    "        print('*', sep='', end='')\n",
    "    print(i)"
   ]
  },
  {
   "cell_type": "code",
   "execution_count": 50,
   "metadata": {},
   "outputs": [
    {
     "name": "stdout",
     "output_type": "stream",
     "text": [
      "*0\n",
      "**1\n",
      "***2\n",
      "****3\n",
      "*****4\n"
     ]
    }
   ],
   "source": [
    "# 1사분면\n",
    "for i in range(5):         #행 \n",
    "    for k in range(i+1):     #열\n",
    "        print('*', sep='', end='')\n",
    "    print(i)"
   ]
  },
  {
   "cell_type": "code",
   "execution_count": 49,
   "metadata": {},
   "outputs": [
    {
     "name": "stdout",
     "output_type": "stream",
     "text": [
      "*****0\n",
      "****1\n",
      "***2\n",
      "**3\n",
      "*4\n"
     ]
    }
   ],
   "source": [
    "# 2사분면\n",
    "for i in range(5):         #행 \n",
    "    for k in range(5-i):\n",
    "        print('*', sep='', end='')\n",
    "    for k in range(i+1):     #열\n",
    "        print('', sep='', end='')\n",
    "    print(i)"
   ]
  },
  {
   "cell_type": "code",
   "execution_count": 48,
   "metadata": {},
   "outputs": [
    {
     "name": "stdout",
     "output_type": "stream",
     "text": [
      " *****0\n",
      "  ****1\n",
      "   ***2\n",
      "    **3\n",
      "     *4\n"
     ]
    }
   ],
   "source": [
    "# 3사분면\n",
    "for i in range(5):         #행 \n",
    "    for k in range(i+1):\n",
    "        print(' ', sep='', end='')\n",
    "    for k in range(5-i):     #열\n",
    "        print('*', sep='', end='')\n",
    "    print(i)"
   ]
  },
  {
   "cell_type": "code",
   "execution_count": 47,
   "metadata": {},
   "outputs": [
    {
     "name": "stdout",
     "output_type": "stream",
     "text": [
      "*****0\n",
      "****1\n",
      "***2\n",
      "**3\n",
      "*4\n"
     ]
    }
   ],
   "source": [
    "# 4사분면\n",
    "for i in range(5):         #행 \n",
    "    for k in range(5-i):\n",
    "        print('*', sep='', end='')\n",
    "    print(i)"
   ]
  },
  {
   "cell_type": "code",
   "execution_count": 68,
   "metadata": {},
   "outputs": [
    {
     "name": "stdout",
     "output_type": "stream",
     "text": [
      "    *\n",
      "   ***\n",
      "  *****\n",
      " *******\n",
      "*********\n"
     ]
    }
   ],
   "source": [
    "# 산 그리기\n",
    "for i in range(5):         #행 \n",
    "    for k in range(4-i):\n",
    "        print(' ', sep='', end='')\n",
    "    for k in range(2*i+1):     #열\n",
    "        print('*', sep='', end='')\n",
    "    print()"
   ]
  },
  {
   "cell_type": "code",
   "execution_count": 130,
   "metadata": {},
   "outputs": [
    {
     "name": "stdout",
     "output_type": "stream",
     "text": [
      "*********\n",
      " *******\n",
      "  *****\n",
      "   ***\n",
      "    *\n"
     ]
    }
   ],
   "source": [
    "# 산 그리기\n",
    "for i in range(5):         #행 \n",
    "    for k in range(i):     #열\n",
    "        print(' ', sep='', end='')\n",
    "    for k in range(5-i):\n",
    "        print('*', sep='', end='')\n",
    "    for k in range(4-i):\n",
    "        print('*', sep='', end='')\n",
    "    print()"
   ]
  },
  {
   "cell_type": "code",
   "execution_count": null,
   "metadata": {},
   "outputs": [],
   "source": []
  },
  {
   "cell_type": "code",
   "execution_count": null,
   "metadata": {},
   "outputs": [],
   "source": []
  },
  {
   "cell_type": "code",
   "execution_count": null,
   "metadata": {},
   "outputs": [],
   "source": []
  },
  {
   "cell_type": "code",
   "execution_count": null,
   "metadata": {},
   "outputs": [],
   "source": []
  }
 ],
 "metadata": {
  "kernelspec": {
   "display_name": "Python 3",
   "language": "python",
   "name": "python3"
  },
  "language_info": {
   "codemirror_mode": {
    "name": "ipython",
    "version": 3
   },
   "file_extension": ".py",
   "mimetype": "text/x-python",
   "name": "python",
   "nbconvert_exporter": "python",
   "pygments_lexer": "ipython3",
   "version": "3.8.3"
  }
 },
 "nbformat": 4,
 "nbformat_minor": 4
}
