{
 "cells": [
  {
   "cell_type": "code",
   "execution_count": 1,
   "metadata": {},
   "outputs": [
    {
     "name": "stdout",
     "output_type": "stream",
     "text": [
      "숫자를 입력하세요 : 5\n",
      "양수!\n"
     ]
    }
   ],
   "source": [
    "# 조건문\n",
    "x = int(input('숫자를 입력하세요 : '))\n",
    "if x>0 :\n",
    "    print('양수!')\n",
    "else : \n",
    "    print('0 또는 음수!')"
   ]
  },
  {
   "cell_type": "code",
   "execution_count": 2,
   "metadata": {},
   "outputs": [
    {
     "name": "stdout",
     "output_type": "stream",
     "text": [
      "정수 입력>5\n"
     ]
    }
   ],
   "source": [
    "# 양수판별\n",
    "n = int(input('정수 입력>'))"
   ]
  },
  {
   "cell_type": "code",
   "execution_count": 3,
   "metadata": {},
   "outputs": [
    {
     "name": "stdout",
     "output_type": "stream",
     "text": [
      "5은/는 양수\n"
     ]
    }
   ],
   "source": [
    "if n>0 :\n",
    "    print('%d은/는 양수' %n)\n",
    "else :\n",
    "    print('%d은/는0 또는 음수'%n)"
   ]
  },
  {
   "cell_type": "markdown",
   "metadata": {},
   "source": [
    "# 파이썬에서는 if 조건식 뒤에 :가 붙고,\n",
    "# (    ) - 4칸 만큼의 공백을 두고 결과 출력.\n",
    "# 4칸이 아닌 3, 5칸 입력 시 indentation error 발생"
   ]
  },
  {
   "cell_type": "code",
   "execution_count": 4,
   "metadata": {},
   "outputs": [
    {
     "name": "stdout",
     "output_type": "stream",
     "text": [
      "True\n",
      "True\n",
      "True\n",
      "True\n",
      "False\n",
      "False\n",
      "False\n"
     ]
    }
   ],
   "source": [
    "x = 10\n",
    "y = 3\n",
    "\n",
    "print (x>9) #x가 9보다 큰가?\n",
    "print (y<=10) #y가 10보다 작거나 같은가?\n",
    "print (x+y==13) # x+y가 13과 같은가?\n",
    "print (x%2==0) #x를 2로 나눈 나머지가 0인가? 즉, 짝수인가?\n",
    "print (y%2==0) #y를 2로 나눈 나머지가 0인가? 즉, 짝수인가?\n",
    "print (x%4==0) #x가 4의 배수인가?\n",
    "print (y%3 !=0) # y는 3의 배수가 아닌가?"
   ]
  },
  {
   "cell_type": "code",
   "execution_count": 5,
   "metadata": {},
   "outputs": [
    {
     "name": "stdout",
     "output_type": "stream",
     "text": [
      "필기성적을 입력하세요 :50\n",
      "실기성적을 입력하세요 :50\n",
      "불합격\n"
     ]
    }
   ],
   "source": [
    "score1 = int(input('필기성적을 입력하세요 :'))\n",
    "score2 = int(input('실기성적을 입력하세요 :'))\n",
    "\n",
    "if score1 >= 80 and score2 >=80 :\n",
    "    print('합격')\n",
    "else :\n",
    "    print('불합격')"
   ]
  },
  {
   "cell_type": "code",
   "execution_count": 6,
   "metadata": {},
   "outputs": [
    {
     "name": "stdout",
     "output_type": "stream",
     "text": [
      "필기 성적>50\n",
      "실기 성적>80\n"
     ]
    }
   ],
   "source": [
    "score1 = int(input('필기 성적>'))\n",
    "score2 = int(input('실기 성적>'))"
   ]
  },
  {
   "cell_type": "code",
   "execution_count": 7,
   "metadata": {},
   "outputs": [
    {
     "name": "stdout",
     "output_type": "stream",
     "text": [
      "불합격\n"
     ]
    }
   ],
   "source": [
    "if ((score1 >= 80) and (score2 >= 80)):\n",
    "    print('합격')\n",
    "else:\n",
    "    print('불합격')"
   ]
  },
  {
   "cell_type": "code",
   "execution_count": 8,
   "metadata": {},
   "outputs": [
    {
     "ename": "KeyboardInterrupt",
     "evalue": "Interrupted by user",
     "output_type": "error",
     "traceback": [
      "\u001b[1;31m---------------------------------------------------------------------------\u001b[0m",
      "\u001b[1;31mKeyboardInterrupt\u001b[0m                         Traceback (most recent call last)",
      "\u001b[1;32m<ipython-input-8-09df2ded2232>\u001b[0m in \u001b[0;36m<module>\u001b[1;34m\u001b[0m\n\u001b[1;32m----> 1\u001b[1;33m \u001b[0mname\u001b[0m \u001b[1;33m=\u001b[0m \u001b[0minput\u001b[0m\u001b[1;33m(\u001b[0m\u001b[1;34m'이름을 입력하세요 :'\u001b[0m\u001b[1;33m)\u001b[0m\u001b[1;33m\u001b[0m\u001b[1;33m\u001b[0m\u001b[0m\n\u001b[0m\u001b[0;32m      2\u001b[0m \u001b[1;32mif\u001b[0m \u001b[1;32mnot\u001b[0m \u001b[0mname\u001b[0m \u001b[1;33m:\u001b[0m\u001b[1;33m\u001b[0m\u001b[1;33m\u001b[0m\u001b[0m\n\u001b[0;32m      3\u001b[0m     \u001b[0mprint\u001b[0m\u001b[1;33m(\u001b[0m\u001b[1;34m'이름이 입력되지 않았다.'\u001b[0m\u001b[1;33m)\u001b[0m\u001b[1;33m\u001b[0m\u001b[1;33m\u001b[0m\u001b[0m\n\u001b[0;32m      4\u001b[0m \u001b[1;32melse\u001b[0m \u001b[1;33m:\u001b[0m\u001b[1;33m\u001b[0m\u001b[1;33m\u001b[0m\u001b[0m\n\u001b[0;32m      5\u001b[0m     \u001b[0mprint\u001b[0m\u001b[1;33m(\u001b[0m\u001b[1;34m'이름:%s'\u001b[0m\u001b[1;33m%\u001b[0m\u001b[0mname\u001b[0m\u001b[1;33m)\u001b[0m\u001b[1;33m\u001b[0m\u001b[1;33m\u001b[0m\u001b[0m\n",
      "\u001b[1;32mC:\\ProgramData\\Anaconda3\\lib\\site-packages\\ipykernel\\kernelbase.py\u001b[0m in \u001b[0;36mraw_input\u001b[1;34m(self, prompt)\u001b[0m\n\u001b[0;32m    858\u001b[0m                 \u001b[1;34m\"raw_input was called, but this frontend does not support input requests.\"\u001b[0m\u001b[1;33m\u001b[0m\u001b[1;33m\u001b[0m\u001b[0m\n\u001b[0;32m    859\u001b[0m             )\n\u001b[1;32m--> 860\u001b[1;33m         return self._input_request(str(prompt),\n\u001b[0m\u001b[0;32m    861\u001b[0m             \u001b[0mself\u001b[0m\u001b[1;33m.\u001b[0m\u001b[0m_parent_ident\u001b[0m\u001b[1;33m,\u001b[0m\u001b[1;33m\u001b[0m\u001b[1;33m\u001b[0m\u001b[0m\n\u001b[0;32m    862\u001b[0m             \u001b[0mself\u001b[0m\u001b[1;33m.\u001b[0m\u001b[0m_parent_header\u001b[0m\u001b[1;33m,\u001b[0m\u001b[1;33m\u001b[0m\u001b[1;33m\u001b[0m\u001b[0m\n",
      "\u001b[1;32mC:\\ProgramData\\Anaconda3\\lib\\site-packages\\ipykernel\\kernelbase.py\u001b[0m in \u001b[0;36m_input_request\u001b[1;34m(self, prompt, ident, parent, password)\u001b[0m\n\u001b[0;32m    902\u001b[0m             \u001b[1;32mexcept\u001b[0m \u001b[0mKeyboardInterrupt\u001b[0m\u001b[1;33m:\u001b[0m\u001b[1;33m\u001b[0m\u001b[1;33m\u001b[0m\u001b[0m\n\u001b[0;32m    903\u001b[0m                 \u001b[1;31m# re-raise KeyboardInterrupt, to truncate traceback\u001b[0m\u001b[1;33m\u001b[0m\u001b[1;33m\u001b[0m\u001b[1;33m\u001b[0m\u001b[0m\n\u001b[1;32m--> 904\u001b[1;33m                 \u001b[1;32mraise\u001b[0m \u001b[0mKeyboardInterrupt\u001b[0m\u001b[1;33m(\u001b[0m\u001b[1;34m\"Interrupted by user\"\u001b[0m\u001b[1;33m)\u001b[0m \u001b[1;32mfrom\u001b[0m \u001b[1;32mNone\u001b[0m\u001b[1;33m\u001b[0m\u001b[1;33m\u001b[0m\u001b[0m\n\u001b[0m\u001b[0;32m    905\u001b[0m             \u001b[1;32mexcept\u001b[0m \u001b[0mException\u001b[0m \u001b[1;32mas\u001b[0m \u001b[0me\u001b[0m\u001b[1;33m:\u001b[0m\u001b[1;33m\u001b[0m\u001b[1;33m\u001b[0m\u001b[0m\n\u001b[0;32m    906\u001b[0m                 \u001b[0mself\u001b[0m\u001b[1;33m.\u001b[0m\u001b[0mlog\u001b[0m\u001b[1;33m.\u001b[0m\u001b[0mwarning\u001b[0m\u001b[1;33m(\u001b[0m\u001b[1;34m\"Invalid Message:\"\u001b[0m\u001b[1;33m,\u001b[0m \u001b[0mexc_info\u001b[0m\u001b[1;33m=\u001b[0m\u001b[1;32mTrue\u001b[0m\u001b[1;33m)\u001b[0m\u001b[1;33m\u001b[0m\u001b[1;33m\u001b[0m\u001b[0m\n",
      "\u001b[1;31mKeyboardInterrupt\u001b[0m: Interrupted by user"
     ]
    }
   ],
   "source": [
    "name = input('이름을 입력하세요 :')\n",
    "if not name :\n",
    "    print('이름이 입력되지 않았다.')\n",
    "else :\n",
    "    print('이름:%s'%name)"
   ]
  },
  {
   "cell_type": "code",
   "execution_count": null,
   "metadata": {},
   "outputs": [],
   "source": [
    "name = input('이름을 입력하세요 :')\n",
    "if not name :\n",
    "    print('이름이 입력되지 않았다.')\n",
    "else :\n",
    "    print('이름:%s'%name)"
   ]
  },
  {
   "cell_type": "code",
   "execution_count": null,
   "metadata": {},
   "outputs": [],
   "source": [
    "# 논리 부정\n",
    "#name = input('이름 입력>')\n",
    "name = None\n",
    "name = input('이름 입력>')"
   ]
  },
  {
   "cell_type": "code",
   "execution_count": null,
   "metadata": {},
   "outputs": [],
   "source": [
    "if not name :\n",
    "    print('이름이 입력되지 않았음')\n",
    "else :\n",
    "    print('입력된 이름:%s'%name)"
   ]
  },
  {
   "cell_type": "code",
   "execution_count": null,
   "metadata": {},
   "outputs": [],
   "source": [
    "# 양수, 0, 음수 판별\n",
    "n = int(input('정수 입력>'))"
   ]
  },
  {
   "cell_type": "code",
   "execution_count": null,
   "metadata": {},
   "outputs": [],
   "source": [
    "if n>0 :\n",
    "    print('%d은/는 양수입니다.' %n)\n",
    "elif n ==0:\n",
    "    print('0입니다.')\n",
    "else :\n",
    "    print('%d은/는 음수입니다.'%n)"
   ]
  },
  {
   "cell_type": "code",
   "execution_count": null,
   "metadata": {},
   "outputs": [],
   "source": [
    "score = int(input('점수 : '))\n",
    "if score >= 90:\n",
    "    print('A')\n",
    "elif score >=80:\n",
    "    print('B')\n",
    "elif score >=70:\n",
    "    print('C')\n",
    "else:\n",
    "    print('D')"
   ]
  },
  {
   "cell_type": "code",
   "execution_count": null,
   "metadata": {},
   "outputs": [],
   "source": [
    "# 학점\n",
    "score = int(input('점수>'))"
   ]
  },
  {
   "cell_type": "code",
   "execution_count": null,
   "metadata": {},
   "outputs": [],
   "source": [
    "if score >= 90:\n",
    "    grade = 'A'\n",
    "elif score >= 80:\n",
    "    grade = 'B'\n",
    "elif score >= 70:\n",
    "    grade = 'C'\n",
    "elif score >= 60:\n",
    "    grade = 'D'\n",
    "else :\n",
    "    grade = 'F'"
   ]
  },
  {
   "cell_type": "code",
   "execution_count": null,
   "metadata": {},
   "outputs": [],
   "source": [
    "print(score, grade)"
   ]
  },
  {
   "cell_type": "code",
   "execution_count": null,
   "metadata": {},
   "outputs": [],
   "source": [
    "# 세 수의 합과 평균 - 일반적\n",
    "x = int(input('숫자>'))\n",
    "y = int(input('숫자>'))\n",
    "z = int(input('숫자>'))"
   ]
  },
  {
   "cell_type": "code",
   "execution_count": null,
   "metadata": {},
   "outputs": [],
   "source": [
    "# 세 수의 합과 평균 - only python\n",
    "x, y, z = input('세 개의 숫자 입력').split()"
   ]
  },
  {
   "cell_type": "code",
   "execution_count": null,
   "metadata": {},
   "outputs": [],
   "source": [
    "x, y, z"
   ]
  },
  {
   "cell_type": "code",
   "execution_count": null,
   "metadata": {},
   "outputs": [],
   "source": [
    "int(x),int(y),int(z)"
   ]
  },
  {
   "cell_type": "code",
   "execution_count": null,
   "metadata": {},
   "outputs": [],
   "source": [
    "# 세 수의 합과 평균2 - only python\n",
    "x, y, z = map(int, input('세 개의 숫자 입력>').split())\n",
    "x, y, z"
   ]
  },
  {
   "cell_type": "markdown",
   "metadata": {},
   "source": [
    "# input_str = '76 87 54' = x, y, z\n",
    "# input.str.split() = ('76','87','54')\n",
    "# x, y, z = tuple\n",
    "# map(int, input('76','87','54'))\n",
    "# => int라는 함수를 각각의 수에 적용시켜라."
   ]
  },
  {
   "cell_type": "code",
   "execution_count": null,
   "metadata": {},
   "outputs": [],
   "source": [
    "sum = x+y+z\n",
    "avg = sum/3\n",
    "sum, avg"
   ]
  },
  {
   "cell_type": "code",
   "execution_count": null,
   "metadata": {},
   "outputs": [],
   "source": [
    "# 만 나이 계산하기\n",
    "current_year = 2020\n",
    "current_month = 8\n",
    "current_day = 28"
   ]
  },
  {
   "cell_type": "code",
   "execution_count": null,
   "metadata": {},
   "outputs": [],
   "source": [
    "birth_year, birth_month, birth_day = map(int,input('생일입력>').split())\n",
    "birth_year, birth_month, birth_day"
   ]
  },
  {
   "cell_type": "code",
   "execution_count": null,
   "metadata": {},
   "outputs": [],
   "source": [
    "if current_month > birth_month:\n",
    "    age = current_year - birth_year\n",
    "elif current_month < birth_month :\n",
    "    age = current_year - birth_year - 1\n",
    "elif current_day < birth_day:\n",
    "    age = current_year - birth_year - 1\n",
    "else:\n",
    "    age = current_year - birth_year"
   ]
  },
  {
   "cell_type": "code",
   "execution_count": null,
   "metadata": {},
   "outputs": [],
   "source": [
    "age"
   ]
  },
  {
   "cell_type": "code",
   "execution_count": null,
   "metadata": {},
   "outputs": [],
   "source": [
    "if current_month > birth_month: # 현재월 > 생월\n",
    "    age = current_year - birth_year\n",
    "elif current_month < birth_month : # 현재월 < 생월\n",
    "    age = current_year - birth_year - 1\n",
    "else:             #현재월 == 생월\n",
    "    if current_day < birth_day:  # 현재일 < 생일\n",
    "        age = current_year - birth_year -1\n",
    "    elif current_day < birth_day:  # 현재일 >= 생일\n",
    "        age = current_year - birth_year - 1\n",
    "    else:\n",
    "        age = current_year - birth_year\n",
    "print(age)"
   ]
  },
  {
   "cell_type": "code",
   "execution_count": null,
   "metadata": {},
   "outputs": [],
   "source": [
    "# 파이썬 datetime module 활용\n",
    "import datetime\n",
    "datetime.datetime.now()"
   ]
  },
  {
   "cell_type": "code",
   "execution_count": null,
   "metadata": {},
   "outputs": [],
   "source": [
    "current_year = datetime.datetime.now().year\n",
    "current_month = datetime.datetime.now().month\n",
    "current_day = datetime.datetime.now().day\n",
    "current_year, current_month, current_day"
   ]
  },
  {
   "cell_type": "code",
   "execution_count": null,
   "metadata": {},
   "outputs": [],
   "source": [
    "birth_year, birth_month, birth_day = map(int,input('생일입력>').split())\n",
    "birth_year, birth_month, birth_day"
   ]
  },
  {
   "cell_type": "code",
   "execution_count": null,
   "metadata": {},
   "outputs": [],
   "source": [
    "if current_month > birth_month: # 현재월 > 생월\n",
    "    age = current_year - birth_year\n",
    "elif current_month < birth_month : # 현재월 < 생월\n",
    "    age = current_year - birth_year - 1\n",
    "else:             #현재월 == 생월\n",
    "    if current_day < birth_day:  # 현재일 < 생일\n",
    "        age = current_year - birth_year -1\n",
    "    elif current_day < birth_day:  # 현재일 >= 생일\n",
    "        age = current_year - birth_year - 1\n",
    "    else:\n",
    "        age = current_year - birth_year\n",
    "print(age)"
   ]
  },
  {
   "cell_type": "code",
   "execution_count": null,
   "metadata": {},
   "outputs": [],
   "source": [
    "# 생일 6자리 숫자로 받아서 처리하기\n",
    "birthday = input('생일 6자리 숫자>')\n",
    "birth_year = int(birthday[:2])\n",
    "if birth_year <=20:\n",
    "    birth_year +=2000\n",
    "else:\n",
    "    birth_year +=1900\n",
    "birth_month = int(birthday[2:4])\n",
    "birth_day = int(birthday[4:])\n",
    "birth_year, birth_month, birth_day"
   ]
  },
  {
   "cell_type": "code",
   "execution_count": null,
   "metadata": {},
   "outputs": [],
   "source": [
    "# 생일 6자리 숫자로 받아서 처리하기\n",
    "birthday = input('생일 6자리 숫자>')\n",
    "birth_year = int(birthday[:2])\n",
    "if birth_year <=20:\n",
    "    birth_year +=2000\n",
    "else:\n",
    "    birth_year +=1900\n",
    "birth_month = int(birthday[2:4])\n",
    "birth_day = int(birthday[4:])\n",
    "birth_year, birth_month, birth_day"
   ]
  },
  {
   "cell_type": "code",
   "execution_count": null,
   "metadata": {},
   "outputs": [],
   "source": [
    "# 생일 임의의 연속된 숫자로 받아서 처리하기\n",
    "birthday = input('생일 (6, 7, 8자리 숫자)>')\n",
    "if len(birthday)==6:\n",
    "    birth_year = int(birthday[:2])\n",
    "    if birth_year <=20:\n",
    "        birth_year +=2000\n",
    "    else:\n",
    "        birth_year +=1900\n",
    "    birth_month = int(birthday[2:4])\n",
    "    birth_day = int(birthday[4:])    \n",
    "elif len(birthday) ==7:\n",
    "    birth_year = int(birthday[:2])\n",
    "    if int(birthday[-1])>2 ==2:\n",
    "        birth_year +=2000\n",
    "    else:\n",
    "        birth_year +=1900\n",
    "    birth_month = int(birthday[2:4])\n",
    "    birth_day = int(birthday[4:6])    \n",
    "else:\n",
    "    birth_year = int(birthday[:4])\n",
    "    birth_month = int(birthday[4:6])\n",
    "    birth_day = int(birthday[6:8])\n",
    "print(birth_year, birth_month, birth_day)"
   ]
  },
  {
   "cell_type": "code",
   "execution_count": null,
   "metadata": {},
   "outputs": [],
   "source": [
    "# 짝수/홀수 판별\n",
    "num =int(input('숫자를 입력하세요 :'))\n",
    "if num %2 ==0 :\n",
    "    print('짝수이다.')\n",
    "else :\n",
    "    print('홀수이다.')"
   ]
  },
  {
   "cell_type": "code",
   "execution_count": null,
   "metadata": {},
   "outputs": [],
   "source": [
    "# 짝수/홀수 판별\n",
    "num =int(input('숫자를 입력하세요 :'))\n",
    "if num %2 ==0 :\n",
    "    print('짝수이다.')\n",
    "else :\n",
    "    print('홀수이다.')"
   ]
  },
  {
   "cell_type": "code",
   "execution_count": null,
   "metadata": {},
   "outputs": [],
   "source": [
    "age =int(input('나이를 입력하세요 :'))\n",
    "pay = '3000원'\n",
    "\n",
    "if age>=65 or age <7 :\n",
    "    pay = '무료'\n",
    "    \n",
    "print('입장료:%s'%pay)"
   ]
  },
  {
   "cell_type": "code",
   "execution_count": null,
   "metadata": {},
   "outputs": [],
   "source": [
    "age =int(input('나이를 입력하세요 :'))\n",
    "pay = '3000원'\n",
    "\n",
    "if age>=65 or age <7 :\n",
    "    pay = '무료'\n",
    "    \n",
    "print('입장료:%s'%pay)"
   ]
  },
  {
   "cell_type": "code",
   "execution_count": null,
   "metadata": {},
   "outputs": [],
   "source": [
    "answer = '31326839'\n",
    "password = input('비밀번호를 입력하세요 :')\n",
    "if password == answer:\n",
    "    print('비밀번호 OK!')\n",
    "else :\n",
    "    print('비밀번호 Not OK!')"
   ]
  },
  {
   "cell_type": "code",
   "execution_count": null,
   "metadata": {},
   "outputs": [],
   "source": [
    "answer = '31326839'\n",
    "password = input('비밀번호를 입력하세요 :')\n",
    "if password == answer:\n",
    "    print('비밀번호 OK!')\n",
    "else :\n",
    "    print('비밀번호 Not OK!')"
   ]
  },
  {
   "cell_type": "code",
   "execution_count": null,
   "metadata": {},
   "outputs": [],
   "source": [
    "month = int(input('월을 입력하세요 :'))\n",
    "if month>=3 and month <=5 :\n",
    "    print('%d월은 봄입니다.'%month)\n",
    "if month>=6 and month <=8 :\n",
    "    print('%d월은 여름입니다.'%month)\n",
    "if month>=9 and month <=11 :\n",
    "    print('%d월은 가을입니다.'%month)\n",
    "if month==12 or month ==1 or month==2 :\n",
    "    print('%d월은 겨울입니다.'%month)        "
   ]
  },
  {
   "cell_type": "code",
   "execution_count": null,
   "metadata": {},
   "outputs": [],
   "source": [
    "a =input('좌석 종류를 입력해주세요(1:일반실, 2:특실):')\n",
    "seat1 ='일반실'\n",
    "seat2 ='특실'\n",
    "if a == '일반실' :\n",
    "    print('%s입니다.'%seat1)\n",
    "if a == '특실' :\n",
    "    print('%s입니다.'%seat2)\n",
    "\n",
    " "
   ]
  },
  {
   "cell_type": "code",
   "execution_count": null,
   "metadata": {},
   "outputs": [],
   "source": []
  },
  {
   "cell_type": "code",
   "execution_count": null,
   "metadata": {},
   "outputs": [],
   "source": []
  },
  {
   "cell_type": "code",
   "execution_count": null,
   "metadata": {},
   "outputs": [],
   "source": []
  },
  {
   "cell_type": "code",
   "execution_count": null,
   "metadata": {},
   "outputs": [],
   "source": []
  },
  {
   "cell_type": "code",
   "execution_count": null,
   "metadata": {},
   "outputs": [],
   "source": []
  },
  {
   "cell_type": "code",
   "execution_count": null,
   "metadata": {},
   "outputs": [],
   "source": []
  },
  {
   "cell_type": "code",
   "execution_count": null,
   "metadata": {},
   "outputs": [],
   "source": []
  },
  {
   "cell_type": "code",
   "execution_count": null,
   "metadata": {},
   "outputs": [],
   "source": []
  },
  {
   "cell_type": "code",
   "execution_count": null,
   "metadata": {},
   "outputs": [],
   "source": []
  }
 ],
 "metadata": {
  "kernelspec": {
   "display_name": "Python 3",
   "language": "python",
   "name": "python3"
  },
  "language_info": {
   "codemirror_mode": {
    "name": "ipython",
    "version": 3
   },
   "file_extension": ".py",
   "mimetype": "text/x-python",
   "name": "python",
   "nbconvert_exporter": "python",
   "pygments_lexer": "ipython3",
   "version": "3.8.3"
  }
 },
 "nbformat": 4,
 "nbformat_minor": 4
}
