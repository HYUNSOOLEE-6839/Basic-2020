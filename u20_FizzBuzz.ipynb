{
 "cells": [
  {
   "cell_type": "markdown",
   "metadata": {},
   "source": [
    "# unit 20. FizzBuzz"
   ]
  },
  {
   "cell_type": "code",
   "execution_count": 11,
   "metadata": {},
   "outputs": [
    {
     "name": "stdout",
     "output_type": "stream",
     "text": [
      "1\n",
      "2\n",
      "Fizz\n",
      "4\n",
      "Buzz\n",
      "Fizz\n",
      "7\n",
      "8\n",
      "Fizz\n",
      "Buzz\n",
      "11\n",
      "Fizz\n",
      "13\n",
      "14\n",
      "FizzBuzz\n",
      "16\n",
      "17\n",
      "Fizz\n",
      "19\n",
      "Buzz\n"
     ]
    }
   ],
   "source": [
    "for i in range(1,21):\n",
    "    if i % 15 == 0:\n",
    "        print('FizzBuzz')\n",
    "    elif i % 3 == 0:\n",
    "        print('Fizz')\n",
    "    elif i % 5 == 0:\n",
    "        print('Buzz')\n",
    "    else:\n",
    "        print(i)"
   ]
  },
  {
   "cell_type": "code",
   "execution_count": 12,
   "metadata": {},
   "outputs": [
    {
     "name": "stdout",
     "output_type": "stream",
     "text": [
      "1\n",
      "2\n",
      "Fizz\n",
      "4\n",
      "Buzz\n",
      "Fizz\n",
      "7\n",
      "8\n",
      "Fizz\n",
      "Buzz\n",
      "11\n",
      "Fizz\n",
      "13\n",
      "14\n",
      "FizzBuzz\n",
      "16\n",
      "17\n",
      "Fizz\n",
      "19\n",
      "Buzz\n"
     ]
    }
   ],
   "source": [
    "for i in range(1,21):\n",
    "    print('Fizz' * (i % 3 ==0) + 'Buzz' * (i % 5 == 0) or i)"
   ]
  },
  {
   "cell_type": "code",
   "execution_count": 23,
   "metadata": {},
   "outputs": [
    {
     "name": "stdout",
     "output_type": "stream",
     "text": [
      "* * * * * * * * * \n",
      "* * * * * * * * * \n",
      "* * * * * * * * * \n",
      "* * * * * * * * * \n",
      "* * * * * * * * * \n",
      "* * * * * * * * * \n",
      "* * * * * * * * * \n",
      "* * * * * * * * * \n",
      "* * * * * * * * * \n"
     ]
    }
   ],
   "source": [
    "for i in range(1,10):         #행 \n",
    "    for k in range(1,10):     #열\n",
    "        print('*', sep='', end=' ')\n",
    "    print()"
   ]
  },
  {
   "cell_type": "code",
   "execution_count": 26,
   "metadata": {},
   "outputs": [
    {
     "data": {
      "text/plain": [
       "0.9131588181871189"
      ]
     },
     "execution_count": 26,
     "metadata": {},
     "output_type": "execute_result"
    }
   ],
   "source": [
    "import random as rd\n",
    "rd.random()"
   ]
  },
  {
   "cell_type": "code",
   "execution_count": 31,
   "metadata": {
    "scrolled": true
   },
   "outputs": [
    {
     "name": "stdout",
     "output_type": "stream",
     "text": [
      "* * * * * * * * * \n",
      "* * * * * * * * * \n",
      "* * * * * * * * * \n",
      "* * * * * * * * * \n",
      "* * * * * * * * * \n",
      "* * * * * * * * * \n",
      "* * * * * * * * * \n",
      "* * * * * * * * * \n",
      "* * * * * * * * * \n"
     ]
    }
   ],
   "source": [
    "for i in range(9):         #행 \n",
    "    for k in range(9):     #열\n",
    "        print('*', sep='', end=' ')\n",
    "    print()"
   ]
  },
  {
   "cell_type": "code",
   "execution_count": 40,
   "metadata": {},
   "outputs": [
    {
     "data": {
      "text/plain": [
       "40"
      ]
     },
     "execution_count": 40,
     "metadata": {},
     "output_type": "execute_result"
    }
   ],
   "source": [
    "a = [[10, 20], [30, 40], [50, 60]]\n",
    "a[1][1]"
   ]
  },
  {
   "cell_type": "code",
   "execution_count": 42,
   "metadata": {},
   "outputs": [
    {
     "name": "stdout",
     "output_type": "stream",
     "text": [
      "[   [10, 20],\n",
      "    [30, 40],\n",
      "    [50, 60]]\n"
     ]
    }
   ],
   "source": [
    "from pprint import pprint\n",
    "pprint(a, indent=4, width=20)"
   ]
  },
  {
   "cell_type": "code",
   "execution_count": 48,
   "metadata": {},
   "outputs": [
    {
     "name": "stdout",
     "output_type": "stream",
     "text": [
      "10\n",
      "20\n",
      "30\n",
      "40\n",
      "50\n",
      "60\n"
     ]
    }
   ],
   "source": [
    "for i in a:\n",
    "    for k in i:\n",
    "        print(k, end='')\n",
    "        print()"
   ]
  },
  {
   "cell_type": "code",
   "execution_count": 68,
   "metadata": {},
   "outputs": [
    {
     "name": "stdout",
     "output_type": "stream",
     "text": [
      "10 20 \n",
      "30 40 \n",
      "50 60 \n"
     ]
    }
   ],
   "source": [
    "a = [[10, 20], [30, 40], [50, 60]]\n",
    "for i in range(len(a)): # 세로 크기\n",
    "    for k in range(len(a[i])): # 가로 크기\n",
    "        print(a[i][k], end=' ')\n",
    "    print()"
   ]
  },
  {
   "cell_type": "code",
   "execution_count": 91,
   "metadata": {},
   "outputs": [
    {
     "data": {
      "text/plain": [
       "'.'"
      ]
     },
     "execution_count": 91,
     "metadata": {},
     "output_type": "execute_result"
    }
   ],
   "source": [
    "mine = ['*', '.']\n",
    "rd.choice(mine)"
   ]
  },
  {
   "cell_type": "code",
   "execution_count": 94,
   "metadata": {},
   "outputs": [
    {
     "name": "stdout",
     "output_type": "stream",
     "text": [
      ". . * . * * * . . . \n",
      ". . * . * * * * . . \n",
      "* * . . . . . * . . \n",
      ". . . . . . . . . * \n",
      "* . . . . . . . * . \n",
      ". . * . . * . * . . \n",
      ". * . * * . * . . * \n",
      "* . * * . * * . * . \n",
      ". . . . . * * * * . \n",
      ". . . . . * * . . . \n"
     ]
    }
   ],
   "source": [
    "for i in range(10):         #행 \n",
    "    for k in range(10):     #열\n",
    "        print(rd.choice(mine), sep='', end=' ')\n",
    "    print()"
   ]
  },
  {
   "cell_type": "code",
   "execution_count": 102,
   "metadata": {},
   "outputs": [],
   "source": [
    "final_mines = []\n",
    "for i in range(1,10):\n",
    "    rows =[]\n",
    "    for k in range(1,10):\n",
    "        pass"
   ]
  },
  {
   "cell_type": "markdown",
   "metadata": {},
   "source": [
    "# 지뢰찾기"
   ]
  },
  {
   "cell_type": "code",
   "execution_count": 126,
   "metadata": {},
   "outputs": [],
   "source": [
    "import random as rd\n",
    "mines = []\n",
    "for i in range(9):\n",
    "    rows = []\n",
    "    for k in range(9):\n",
    "        if rd.random()>0.5:\n",
    "            rows.append('*')\n",
    "        else:\n",
    "            rows.append('.')\n",
    "    mines.append(rows)"
   ]
  },
  {
   "cell_type": "code",
   "execution_count": 127,
   "metadata": {},
   "outputs": [
    {
     "name": "stdout",
     "output_type": "stream",
     "text": [
      ".**...*..\n",
      "**.......\n",
      "**.**.**.\n",
      "*.*..*.**\n",
      "*..**...*\n",
      "*..*..*..\n",
      ".....**.*\n",
      "**..**..*\n",
      "**.*.*..*\n"
     ]
    }
   ],
   "source": [
    "for i in range(9):         #행 \n",
    "    for k in range(9):     #열\n",
    "        print(mines[i][k], end='')\n",
    "    print()"
   ]
  },
  {
   "cell_type": "code",
   "execution_count": 128,
   "metadata": {},
   "outputs": [],
   "source": [
    "pad_mines = []\n",
    "pad_mines.append('...........')\n",
    "for i in range(9):\n",
    "    rows = ['.']\n",
    "    for k in range(9):\n",
    "        rows.append(mines[i][k])\n",
    "    rows.append('.')\n",
    "    pad_mines.append(rows)\n",
    "pad_mines.append('...........')"
   ]
  },
  {
   "cell_type": "code",
   "execution_count": 130,
   "metadata": {},
   "outputs": [
    {
     "name": "stdout",
     "output_type": "stream",
     "text": [
      "...........\n",
      "..**...*...\n",
      ".**........\n",
      ".**.**.**..\n",
      ".*.*..*.**.\n",
      ".*..**...*.\n",
      ".*..*..*...\n",
      "......**.*.\n",
      ".**..**..*.\n",
      ".**.*.*..*.\n",
      "...........\n"
     ]
    }
   ],
   "source": [
    "for i in range(11):\n",
    "    for k in range(11):\n",
    "        print(pad_mines[i][k], end='')\n",
    "    print()"
   ]
  },
  {
   "cell_type": "code",
   "execution_count": 132,
   "metadata": {},
   "outputs": [],
   "source": [
    "final_mines = []\n",
    "for i in range(1,10):\n",
    "    rows = []\n",
    "    for k in range(1, 10):\n",
    "        if pad_mines[i][k] == '*':\n",
    "            rows.append('*')\n",
    "        else:\n",
    "            count = (pad_mines[i-1][k-1] == '*') \\\n",
    "                  + (pad_mines[i-1][k] == '*') + (pad_mines[i-1][k+1] == '*') \\\n",
    "                  + (pad_mines[i][k-1] == '*') + (pad_mines[i][k+1] == '*') \\\n",
    "                  + (pad_mines[i+1][k-1] == '*') \\\n",
    "                  + (pad_mines[i+1][k] == '*') + (pad_mines[i+1][k+1] == '*')\n",
    "            rows.append(str(count))\n",
    "    final_mines.append(rows)"
   ]
  },
  {
   "cell_type": "code",
   "execution_count": 144,
   "metadata": {},
   "outputs": [
    {
     "name": "stdout",
     "output_type": "stream",
     "text": [
      "3 * * 1 0 1 * 1 0 \n",
      "* * 5 3 2 3 3 3 1 \n",
      "* * 4 * * 3 * * 3 \n",
      "* 5 * 5 5 * 4 * * \n",
      "* 4 3 * * 3 3 4 * \n",
      "* 2 2 * 4 4 * 4 2 \n",
      "3 3 2 2 4 * * 4 * \n",
      "* * 3 2 * * 4 4 * \n",
      "* * 3 * 4 * 2 2 * \n"
     ]
    }
   ],
   "source": [
    "for i in range(9):\n",
    "    for k in range(9):\n",
    "        print(final_mines[i][k], end=' ')\n",
    "    print()"
   ]
  },
  {
   "cell_type": "code",
   "execution_count": null,
   "metadata": {},
   "outputs": [],
   "source": []
  },
  {
   "cell_type": "code",
   "execution_count": null,
   "metadata": {},
   "outputs": [],
   "source": []
  }
 ],
 "metadata": {
  "kernelspec": {
   "display_name": "Python 3",
   "language": "python",
   "name": "python3"
  },
  "language_info": {
   "codemirror_mode": {
    "name": "ipython",
    "version": 3
   },
   "file_extension": ".py",
   "mimetype": "text/x-python",
   "name": "python",
   "nbconvert_exporter": "python",
   "pygments_lexer": "ipython3",
   "version": "3.8.3"
  }
 },
 "nbformat": 4,
 "nbformat_minor": 4
}
